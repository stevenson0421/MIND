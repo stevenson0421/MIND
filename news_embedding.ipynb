{
 "cells": [
  {
   "cell_type": "code",
   "execution_count": 1,
   "metadata": {},
   "outputs": [],
   "source": [
    "from gensim.models.word2vec import Word2Vec\n",
    "\n",
    "from sklearn.preprocessing import LabelEncoder\n",
    "from sklearn.metrics import accuracy_score, f1_score, roc_auc_score\n",
    "\n",
    "import numpy as np\n",
    "import pandas as pd\n",
    "\n",
    "import torch\n",
    "from torch.nn import *\n",
    "from torch.utils.data import Dataset, DataLoader, SubsetRandomSampler, default_collate\n",
    "from torch.utils.tensorboard import SummaryWriter\n",
    "\n",
    "import time\n",
    "import os"
   ]
  },
  {
   "cell_type": "code",
   "execution_count": 2,
   "metadata": {},
   "outputs": [],
   "source": [
    "class NewsDataset(Dataset):\n",
    "    def __init__(self, x, y):\n",
    "        super().__init__()\n",
    "\n",
    "        self.x = x\n",
    "        self.y = y\n",
    "\n",
    "    def __len__(self):\n",
    "        return len(self.x)\n",
    "    \n",
    "    def __getitem__(self, index):\n",
    "        return self.x[index], self.y[index]"
   ]
  },
  {
   "cell_type": "code",
   "execution_count": 14,
   "metadata": {},
   "outputs": [],
   "source": [
    "class NewsEmbeddingNetwork(Module):\n",
    "    def __init__(self, input_dimension, hidden_dimension, latent_dimension, id_dimension):\n",
    "        super().__init__()\n",
    "\n",
    "        def init_parameters(layer, scale=1):\n",
    "            torch.nn.init.xavier_normal_(layer.weight, gain=scale)\n",
    "            torch.nn.init.zeros_(layer.bias)\n",
    "\n",
    "        self.fc1 = Linear(in_features=input_dimension, out_features=hidden_dimension)\n",
    "        init_parameters(self.fc1)\n",
    "        self.fc2 = Linear(in_features=hidden_dimension, out_features=latent_dimension)\n",
    "        init_parameters(self.fc2)\n",
    "        self.fc3 = Linear(in_features=latent_dimension, out_features=hidden_dimension)\n",
    "        init_parameters(self.fc3)\n",
    "        self.fc4 = Linear(in_features=hidden_dimension, out_features=id_dimension)\n",
    "        init_parameters(self.fc4)\n",
    "\n",
    "        self.relu = ReLU()\n",
    "        self.softmax = Softmax(dim=-1)\n",
    "\n",
    "    def forward(self, input_vector):\n",
    "        latent = self.relu(self.fc1(input_vector))\n",
    "        latent = self.relu(self.fc2(latent))\n",
    "        latent2 = self.softmax(self.fc3(latent))\n",
    "        id = self.softmax(self.fc4(latent2))\n",
    "\n",
    "        return latent, id"
   ]
  },
  {
   "cell_type": "code",
   "execution_count": 4,
   "metadata": {},
   "outputs": [],
   "source": [
    "seed=24\n",
    "torch.manual_seed(seed)\n",
    "torch.cuda.manual_seed(seed)\n",
    "np.random.seed(seed)\n",
    "torch.backends.cudnn.deterministic=True"
   ]
  },
  {
   "cell_type": "code",
   "execution_count": 5,
   "metadata": {},
   "outputs": [
    {
     "name": "stdout",
     "output_type": "stream",
     "text": [
      "data loaded\n"
     ]
    }
   ],
   "source": [
    "# load news data\n",
    "column_names = ['News_id', 'Category', 'Subcategory', 'Title', 'Abstract', 'URL', 'Title_Entities', 'Abstract_Entities']\n",
    "news = pd.read_csv('./data/train_news.tsv', sep='\\t', names=column_names)\n",
    "news2 = pd.read_csv('./data/test_news.tsv', sep='\\t', names=column_names)\n",
    "news = pd.concat([news, news2], axis=0)\n",
    "print('data loaded')"
   ]
  },
  {
   "cell_type": "code",
   "execution_count": 7,
   "metadata": {},
   "outputs": [
    {
     "name": "stdout",
     "output_type": "stream",
     "text": [
      "word2vec model trained\n"
     ]
    }
   ],
   "source": [
    "# train word to vector model with title\n",
    "embedding_dimension = 100\n",
    "corpus = [x.split() for x in news['Title']]\n",
    "model_w2v = Word2Vec(corpus, vector_size=embedding_dimension, min_count=1, workers=15)\n",
    "print('word2vec model trained')"
   ]
  },
  {
   "cell_type": "code",
   "execution_count": 8,
   "metadata": {},
   "outputs": [
    {
     "name": "stdout",
     "output_type": "stream",
     "text": [
      "news mapped with word2vec model (input)\n"
     ]
    }
   ],
   "source": [
    "# map each news to mean of title w2v\n",
    "news_vector = np.empty((news.shape[0], embedding_dimension), dtype=np.float32)\n",
    "pointer = 0\n",
    "for i in corpus:\n",
    "    vec_list = []\n",
    "    for j in i:\n",
    "        vec_list.append(model_w2v.wv[j])\n",
    "    news_vector[pointer] = np.mean(vec_list, axis=0)\n",
    "    pointer += 1\n",
    "\n",
    "# news_vector = np.load('./data/news_embedding/news_vector.npy')\n",
    "news_vector_tensor = torch.FloatTensor(news_vector)\n",
    "\n",
    "print('news mapped with word2vec model (input)')"
   ]
  },
  {
   "cell_type": "code",
   "execution_count": 9,
   "metadata": {},
   "outputs": [
    {
     "name": "stdout",
     "output_type": "stream",
     "text": [
      "news category (target) encoded\n"
     ]
    }
   ],
   "source": [
    "news_category = LabelEncoder().fit_transform(news['Category'].values)\n",
    "\n",
    "news_category_tensor = torch.LongTensor(news_category)\n",
    "\n",
    "print('news category (target) encoded')"
   ]
  },
  {
   "cell_type": "code",
   "execution_count": 10,
   "metadata": {},
   "outputs": [],
   "source": [
    "news_dataset = NewsDataset(news_vector_tensor, news_category_tensor)\n",
    "\n",
    "batch_size=128\n",
    "device = torch.device('cuda' if torch.cuda.is_available() else 'cpu')\n",
    "\n",
    "train_loader = DataLoader(news_dataset, batch_size=batch_size, shuffle=True,\n",
    "                          collate_fn=lambda x: tuple(x_.to(device) for x_ in default_collate(x)))\n",
    "\n",
    "output_dimension = len(news['Category'].unique())"
   ]
  },
  {
   "cell_type": "code",
   "execution_count": 15,
   "metadata": {},
   "outputs": [
    {
     "name": "stderr",
     "output_type": "stream",
     "text": [
      "Exception in thread Thread-167:\n",
      "Traceback (most recent call last):\n",
      "  File \"c:\\Users\\ccis229c\\Anaconda3\\envs\\ml\\lib\\threading.py\", line 1016, in _bootstrap_inner\n",
      "    self.run()\n",
      "  File \"C:\\Users\\ccis229c\\AppData\\Roaming\\Python\\Python310\\site-packages\\tensorboard\\summary\\writer\\event_file_writer.py\", line 233, in run\n",
      "    self._record_writer.write(data)\n",
      "  File \"C:\\Users\\ccis229c\\AppData\\Roaming\\Python\\Python310\\site-packages\\tensorboard\\summary\\writer\\record_writer.py\", line 40, in write\n",
      "    self._writer.write(header + header_crc + data + footer_crc)\n",
      "  File \"C:\\Users\\ccis229c\\AppData\\Roaming\\Python\\Python310\\site-packages\\tensorboard\\compat\\tensorflow_stub\\io\\gfile.py\", line 766, in write\n",
      "    self.fs.append(self.filename, file_content, self.binary_mode)\n",
      "  File \"C:\\Users\\ccis229c\\AppData\\Roaming\\Python\\Python310\\site-packages\\tensorboard\\compat\\tensorflow_stub\\io\\gfile.py\", line 160, in append\n",
      "    self._write(filename, file_content, \"ab\" if binary_mode else \"a\")\n",
      "  File \"C:\\Users\\ccis229c\\AppData\\Roaming\\Python\\Python310\\site-packages\\tensorboard\\compat\\tensorflow_stub\\io\\gfile.py\", line 164, in _write\n",
      "    with io.open(filename, mode, encoding=encoding) as f:\n",
      "FileNotFoundError: [Errno 2] No such file or directory: b'./runs/news_embedding_20230614-193402\\\\events.out.tfevents.1686742442.DESKTOP-0IH73L1.17580.2'\n"
     ]
    }
   ],
   "source": [
    "writer = SummaryWriter(log_dir=f'./runs/news_embedding_{time.strftime(\"%Y%m%d-%H%M%S\")}')\n",
    "\n",
    "learning_rate = 0.005\n",
    "\n",
    "hidden_dimension = 256\n",
    "latent_dimension = 256\n",
    "\n",
    "network = NewsEmbeddingNetwork(input_dimension=embedding_dimension,\n",
    "                               hidden_dimension=hidden_dimension,\n",
    "                               latent_dimension=latent_dimension,\n",
    "                               id_dimension=output_dimension).to(device)\n",
    "\n",
    "optimizer = torch.optim.Adam(network.parameters(), lr=learning_rate)\n",
    "criterion = CrossEntropyLoss()\n",
    "\n",
    "start_time = time.time()\n",
    "for epoch in range(100):\n",
    "    for i, (x, y) in enumerate(train_loader):\n",
    "        latent, id = network.forward(x)\n",
    "        loss = criterion(id, y)\n",
    "\n",
    "        optimizer.zero_grad()\n",
    "        loss.backward()\n",
    "        optimizer.step()\n",
    "\n",
    "    writer.add_scalar('Loss', loss, epoch)\n",
    "\n",
    "    with torch.no_grad():\n",
    "        _, id = network.forward(news_vector_tensor.to(device))\n",
    "        id = id.cpu().numpy()\n",
    "        predict = np.argmax(id, axis=1)\n",
    "        label = news_category\n",
    "        accuracy = accuracy_score(label, predict)\n",
    "        f1 = f1_score(label, predict, average='weighted')\n",
    "        auc = roc_auc_score(label, id, multi_class='ovr')\n",
    "\n",
    "\n",
    "    writer.add_scalar('Accuracy', accuracy, epoch)\n",
    "    writer.add_scalar('F1', f1, epoch)\n",
    "    writer.add_scalar('AUC', auc, epoch)\n",
    "\n",
    "print(f'news embedding train time: {time.time() - start_time} seconds')\n",
    "writer.close()"
   ]
  },
  {
   "cell_type": "code",
   "execution_count": null,
   "metadata": {},
   "outputs": [
    {
     "name": "stdout",
     "output_type": "stream",
     "text": [
      "[13]\n"
     ]
    }
   ],
   "source": [
    "with torch.no_grad():\n",
    "    _, id = network.forward(news_vector_tensor.to(device))\n",
    "    id = id.cpu().numpy()\n",
    "    predict = np.argmax(id, axis=1)\n",
    "    print(np.unique(predict))"
   ]
  },
  {
   "cell_type": "code",
   "execution_count": 11,
   "metadata": {},
   "outputs": [],
   "source": [
    "if not os.path.exists('./model/'):\n",
    "    os.makedirs('./model/')\n",
    "torch.save(network.state_dict(), \n",
    "           f'./model/news_embedding_{time.strftime(\"%Y%m%d-%H%M%S\")}_{auc:.2f}.pth')"
   ]
  },
  {
   "cell_type": "code",
   "execution_count": 13,
   "metadata": {},
   "outputs": [],
   "source": [
    "latent, _ = network.forward(news_vector_tensor.to(device))\n",
    "latent = latent.cpu().detach().numpy()\n",
    "\n",
    "if not os.path.exists('./data/news_embedding/'):\n",
    "    os.makedirs('./data/news_embedding/')\n",
    "np.save('./data/news_embedding/news_vector.npy', news_vector)\n",
    "np.save('./data/news_embedding/news_embedding_vector.npy', latent)"
   ]
  }
 ],
 "metadata": {
  "kernelspec": {
   "display_name": "ml",
   "language": "python",
   "name": "python3"
  },
  "language_info": {
   "codemirror_mode": {
    "name": "ipython",
    "version": 3
   },
   "file_extension": ".py",
   "mimetype": "text/x-python",
   "name": "python",
   "nbconvert_exporter": "python",
   "pygments_lexer": "ipython3",
   "version": "3.10.11"
  },
  "orig_nbformat": 4
 },
 "nbformat": 4,
 "nbformat_minor": 2
}
