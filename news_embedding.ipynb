{
 "cells": [
  {
   "cell_type": "code",
   "execution_count": 1,
   "metadata": {},
   "outputs": [
    {
     "name": "stderr",
     "output_type": "stream",
     "text": [
      "[nltk_data] Downloading package wordnet to\n",
      "[nltk_data]     C:\\Users\\ccis229c\\AppData\\Roaming\\nltk_data...\n",
      "[nltk_data]   Package wordnet is already up-to-date!\n"
     ]
    }
   ],
   "source": [
    "from gensim.models.word2vec import Word2Vec\n",
    "\n",
    "import nltk\n",
    "nltk.download('wordnet')\n",
    "from nltk.corpus import stopwords\n",
    "from nltk.tokenize import word_tokenize\n",
    "from nltk.stem import WordNetLemmatizer\n",
    "\n",
    "from sklearn.metrics import accuracy_score, f1_score, roc_auc_score\n",
    "\n",
    "import numpy as np\n",
    "import pandas as pd\n",
    "\n",
    "import torch\n",
    "from torch.nn import Module, Linear, ReLU, Softmax, CrossEntropyLoss\n",
    "from torch.utils.data import Dataset, DataLoader\n",
    "from torch.utils.tensorboard import SummaryWriter\n",
    "\n",
    "import time\n",
    "import os\n",
    "from tqdm import trange"
   ]
  },
  {
   "cell_type": "code",
   "execution_count": 2,
   "metadata": {},
   "outputs": [],
   "source": [
    "class CustomDataset(Dataset):\n",
    "    def __init__(self, x, y):\n",
    "        super().__init__()\n",
    "\n",
    "        self.x = x\n",
    "        self.y = y\n",
    "\n",
    "    def __len__(self):\n",
    "        return len(self.x)\n",
    "    \n",
    "    def __getitem__(self, index):\n",
    "        return self.x[index], self.y[index]"
   ]
  },
  {
   "cell_type": "code",
   "execution_count": 3,
   "metadata": {},
   "outputs": [],
   "source": [
    "class NewsEmbeddingNetwork(Module):\n",
    "    def __init__(self, input_dimension, hidden_dimension, latent_dimension, output_dimension):\n",
    "        super().__init__()\n",
    "\n",
    "        def init_parameters(layer, scale=1):\n",
    "            torch.nn.init.xavier_normal_(layer.weight, gain=scale)\n",
    "            torch.nn.init.zeros_(layer.bias)\n",
    "\n",
    "        self.fc1 = Linear(in_features=input_dimension, out_features=hidden_dimension)\n",
    "        init_parameters(self.fc1)\n",
    "        self.fc2 = Linear(in_features=hidden_dimension, out_features=hidden_dimension)\n",
    "        init_parameters(self.fc2)\n",
    "        self.fc3 = Linear(in_features=hidden_dimension, out_features=latent_dimension)\n",
    "        init_parameters(self.fc3)\n",
    "        self.fc4 = Linear(in_features=latent_dimension, out_features=output_dimension)\n",
    "        init_parameters(self.fc4)\n",
    "\n",
    "        self.relu = ReLU()\n",
    "        self.softmax = Softmax(dim=-1)\n",
    "\n",
    "    def forward(self, input_vector):\n",
    "        latent = self.relu(self.fc1(input_vector))\n",
    "        latent = self.relu(self.fc2(latent))\n",
    "        latent = self.softmax(self.fc3(latent))\n",
    "        output = self.softmax(self.fc4(latent))\n",
    "\n",
    "        return latent, output"
   ]
  },
  {
   "cell_type": "code",
   "execution_count": 4,
   "metadata": {},
   "outputs": [],
   "source": [
    "seed=24\n",
    "torch.manual_seed(seed)\n",
    "torch.cuda.manual_seed(seed)\n",
    "np.random.seed(seed)\n",
    "torch.backends.cudnn.deterministic=True"
   ]
  },
  {
   "cell_type": "code",
   "execution_count": 5,
   "metadata": {},
   "outputs": [
    {
     "name": "stdout",
     "output_type": "stream",
     "text": [
      "data loaded\n"
     ]
    }
   ],
   "source": [
    "# load news data\n",
    "column_names = ['News_id', 'Category', 'Subcategory', 'Title', 'Abstract', 'URL', 'Title_Entities', 'Abstract_Entities']\n",
    "news = pd.read_csv('./data/train_news.tsv', sep='\\t', names=column_names)\n",
    "news2 = pd.read_csv('./data/test_news.tsv', sep='\\t', names=column_names)\n",
    "news = pd.concat([news, news2], ignore_index=True)\n",
    "del news2\n",
    "\n",
    "print('data loaded')"
   ]
  },
  {
   "cell_type": "code",
   "execution_count": 6,
   "metadata": {},
   "outputs": [],
   "source": [
    "number_of_epoch = 10\n",
    "learning_rate = 0.0025\n",
    "batch_size = 128\n",
    "embedding_dimension = 100\n",
    "hidden_dimension = 128\n",
    "latent_dimension = 256\n",
    "output_dimension = len(news['Category'].unique())\n",
    "device = torch.device('cuda' if torch.cuda.is_available() else 'cpu')"
   ]
  },
  {
   "cell_type": "code",
   "execution_count": 7,
   "metadata": {},
   "outputs": [
    {
     "data": {
      "text/plain": [
       "['The',\n",
       " 'Brands',\n",
       " 'Queen',\n",
       " 'Elizabeth',\n",
       " ',',\n",
       " 'Prince',\n",
       " 'Charles',\n",
       " ',',\n",
       " 'Prince',\n",
       " 'Philip',\n",
       " 'Swear',\n",
       " 'By']"
      ]
     },
     "execution_count": 7,
     "metadata": {},
     "output_type": "execute_result"
    }
   ],
   "source": [
    "stop_words = set(stopwords.words('english'))\n",
    "\n",
    "news_tokens = []\n",
    "news_titles = news['Title'].values\n",
    "for i in range(len(news_titles)):\n",
    "    word_tokens_i = word_tokenize(news_titles[i])\n",
    "    news_tokens.append([w for w in word_tokens_i if not w in stop_words])\n",
    "news_tokens[0]"
   ]
  },
  {
   "cell_type": "code",
   "execution_count": 8,
   "metadata": {},
   "outputs": [
    {
     "data": {
      "text/plain": [
       "['The',\n",
       " 'Brands',\n",
       " 'Queen',\n",
       " 'Elizabeth',\n",
       " ',',\n",
       " 'Prince',\n",
       " 'Charles',\n",
       " ',',\n",
       " 'Prince',\n",
       " 'Philip',\n",
       " 'Swear',\n",
       " 'By']"
      ]
     },
     "execution_count": 8,
     "metadata": {},
     "output_type": "execute_result"
    }
   ],
   "source": [
    "lemmatizer = WordNetLemmatizer()\n",
    "\n",
    "news_tokens_lemmatized = []\n",
    "for i in range(len(news_tokens)):\n",
    "    word_tokens_i = []\n",
    "    for j in news_tokens[i]:\n",
    "        x = lemmatizer.lemmatize(j, pos='a')\n",
    "        x = lemmatizer.lemmatize(x)\n",
    "        word_tokens_i.append(x)\n",
    "    news_tokens_lemmatized.append(word_tokens_i)\n",
    "\n",
    "news_tokens_lemmatized[0]"
   ]
  },
  {
   "cell_type": "code",
   "execution_count": 9,
   "metadata": {},
   "outputs": [
    {
     "name": "stdout",
     "output_type": "stream",
     "text": [
      "word2vec model trained\n"
     ]
    }
   ],
   "source": [
    "# train word to vector model with title\n",
    "model_w2v = Word2Vec(news_tokens_lemmatized, vector_size=embedding_dimension, min_count=1, workers=15)\n",
    "print('word2vec model trained')"
   ]
  },
  {
   "cell_type": "code",
   "execution_count": 10,
   "metadata": {},
   "outputs": [
    {
     "name": "stdout",
     "output_type": "stream",
     "text": [
      "news mapped with word2vec model (input)\n"
     ]
    }
   ],
   "source": [
    "# map each news to mean of title w2v\n",
    "train_x = np.empty((news.shape[0], embedding_dimension), dtype=np.float32)\n",
    "pointer = 0\n",
    "for i in news_tokens_lemmatized:\n",
    "    vec_list = []\n",
    "    for j in i:\n",
    "        vec_list.append(model_w2v.wv[j])\n",
    "    train_x[pointer] = np.mean(vec_list, axis=0)\n",
    "    pointer += 1\n",
    "\n",
    "# news_vector = np.load('./data/news_embedding/news_vector.npy')\n",
    "train_x_tensor = torch.FloatTensor(train_x)\n",
    "\n",
    "print('news mapped with word2vec model (input)')"
   ]
  },
  {
   "cell_type": "code",
   "execution_count": 11,
   "metadata": {},
   "outputs": [
    {
     "name": "stdout",
     "output_type": "stream",
     "text": [
      "news category (target) encoded\n"
     ]
    }
   ],
   "source": [
    "train_y_ = pd.get_dummies(news['Category']).astype(float)\n",
    "\n",
    "columns = news['Category'].value_counts().index\n",
    "train_y_ = train_y_[columns]\n",
    "train_y = train_y_.values\n",
    "\n",
    "_, counts = np.unique(train_y, axis=0, return_counts=True)\n",
    "counts = counts[::-1]\n",
    "class_weights = torch.Tensor(1/(counts / counts.sum())).to(device)\n",
    "\n",
    "train_y_tensor = torch.LongTensor(train_y)\n",
    "\n",
    "print('news category (target) encoded')\n",
    "\n",
    "# %%\n",
    "news_dataset = CustomDataset(train_x, train_y)\n",
    "\n",
    "train_loader = DataLoader(news_dataset, batch_size=batch_size, shuffle=True)"
   ]
  },
  {
   "cell_type": "code",
   "execution_count": 12,
   "metadata": {},
   "outputs": [
    {
     "data": {
      "text/plain": [
       "tensor([3.2379e+00, 3.3181e+00, 1.6937e+01, 2.0819e+01, 2.1653e+01, 2.2035e+01,\n",
       "        2.3029e+01, 2.4631e+01, 3.1446e+01, 3.2708e+01, 7.2252e+01, 7.9647e+01,\n",
       "        1.1118e+02, 1.1632e+02, 1.3884e+03, 4.3388e+04, 8.6775e+04, 1.7355e+05],\n",
       "       device='cuda:0')"
      ]
     },
     "execution_count": 12,
     "metadata": {},
     "output_type": "execute_result"
    }
   ],
   "source": [
    "class_weights"
   ]
  },
  {
   "cell_type": "code",
   "execution_count": 13,
   "metadata": {},
   "outputs": [],
   "source": [
    "class MCELoss_weight(Module):\n",
    "    def __init__(self, weight):\n",
    "        super().__init__()\n",
    "        self.weight = weight\n",
    "\n",
    "    def forward(self, target, predict):\n",
    "        predict = torch.clamp(predict, min=1e-6, max=1-1e-6)\n",
    "        mce = torch.mean(-self.weight * target * torch.log(predict))\n",
    "        return mce"
   ]
  },
  {
   "cell_type": "code",
   "execution_count": 14,
   "metadata": {},
   "outputs": [
    {
     "name": "stderr",
     "output_type": "stream",
     "text": [
      "100%|██████████| 10/10 [00:46<00:00,  4.69s/it]"
     ]
    },
    {
     "name": "stdout",
     "output_type": "stream",
     "text": [
      "news embedding train time: 46.863362073898315 seconds\n"
     ]
    },
    {
     "name": "stderr",
     "output_type": "stream",
     "text": [
      "\n"
     ]
    }
   ],
   "source": [
    "if not os.path.exists('./runs/'):\n",
    "    os.makedirs('./runs/')\n",
    "\n",
    "if not os.path.exists('./model/'):\n",
    "    os.makedirs('./model/')\n",
    "\n",
    "writer = SummaryWriter(log_dir=f'./runs/news_embedding_{time.strftime(\"%Y%m%d-%H%M%S\")}')\n",
    "\n",
    "network = NewsEmbeddingNetwork(input_dimension=embedding_dimension,\n",
    "                               hidden_dimension=hidden_dimension,\n",
    "                               latent_dimension=latent_dimension,\n",
    "                               output_dimension=output_dimension).to(device)\n",
    "\n",
    "optimizer = torch.optim.Adam(network.parameters(), lr=learning_rate)\n",
    "criterion = MCELoss_weight(weight=class_weights).to(device)\n",
    "\n",
    "start_time = time.time()\n",
    "for epoch in trange(number_of_epoch):\n",
    "    network.to(device)\n",
    "    predicts = np.empty((len(train_x),output_dimension))\n",
    "    labels = np.empty((len(train_x), output_dimension))\n",
    "    pointer = 0\n",
    "    for i, (x, y) in enumerate(train_loader):\n",
    "        x = x.to(device)\n",
    "        y = y.to(device)\n",
    "        latent, predict = network.forward(x)\n",
    "        loss = criterion(predict, y)\n",
    "\n",
    "        optimizer.zero_grad()\n",
    "        loss.backward()\n",
    "        optimizer.step()\n",
    "\n",
    "        with torch.no_grad():\n",
    "            predict = predict.cpu().numpy()\n",
    "            y = y.cpu().numpy()\n",
    "            mb_size = len(predict)\n",
    "            predicts[pointer:pointer+mb_size] = predict\n",
    "            labels[pointer:pointer+mb_size] = y\n",
    "            pointer += mb_size\n",
    "\n",
    "        del x, y, predict\n",
    "\n",
    "    writer.add_scalar('Loss', loss, epoch)\n",
    "\n",
    "    auc = roc_auc_score(labels, predicts, multi_class='ovr')\n",
    "\n",
    "    writer.add_scalar('AUC', auc, epoch)\n",
    "\n",
    "    predicts = np.argmax(predicts, axis=1)\n",
    "    writer.add_scalar('Predict', len(np.unique(predicts)), epoch)\n",
    "\n",
    "print(f'news embedding train time: {time.time() - start_time} seconds')\n",
    "writer.close()"
   ]
  },
  {
   "cell_type": "code",
   "execution_count": 15,
   "metadata": {},
   "outputs": [
    {
     "name": "stdout",
     "output_type": "stream",
     "text": [
      "[0]\n"
     ]
    }
   ],
   "source": [
    "with torch.no_grad():\n",
    "    network.to(device)\n",
    "    predicts = np.empty((len(train_x),output_dimension))\n",
    "    latents = np.empty((len(train_x), latent_dimension))\n",
    "    pointer = 0\n",
    "    for i, (x, y) in enumerate(train_loader):\n",
    "        x = x.to(device)\n",
    "        y = y.to(device)\n",
    "        latent, predict = network.forward(x)\n",
    "\n",
    "        predict = predict.cpu().numpy()\n",
    "        latent = latent.cpu().numpy()\n",
    "        mb_size = len(predict)\n",
    "        predicts[pointer:pointer+mb_size] = predict\n",
    "        latents[pointer:pointer+mb_size] = latent\n",
    "        pointer += mb_size\n",
    "\n",
    "        del x, y, predict, latent\n",
    "\n",
    "predicts = np.argmax(predicts, axis=1)\n",
    "print(np.unique(predicts))"
   ]
  },
  {
   "cell_type": "code",
   "execution_count": null,
   "metadata": {},
   "outputs": [],
   "source": [
    "if not os.path.exists('./model/'):\n",
    "    os.makedirs('./model/')\n",
    "torch.save(network.state_dict(), \n",
    "           f'./model/news_embedding_{time.strftime(\"%Y%m%d-%H%M%S\")}_{auc:.2f}.pth')"
   ]
  },
  {
   "cell_type": "code",
   "execution_count": 16,
   "metadata": {},
   "outputs": [],
   "source": [
    "if not os.path.exists('./data/news_embedding/'):\n",
    "    os.makedirs('./data/news_embedding/')\n",
    "np.save('./data/news_embedding/news_vector.npy', train_x)\n",
    "np.save('./data/news_embedding/news_embedding_vector.npy', latents)"
   ]
  }
 ],
 "metadata": {
  "kernelspec": {
   "display_name": "ml",
   "language": "python",
   "name": "python3"
  },
  "language_info": {
   "codemirror_mode": {
    "name": "ipython",
    "version": 3
   },
   "file_extension": ".py",
   "mimetype": "text/x-python",
   "name": "python",
   "nbconvert_exporter": "python",
   "pygments_lexer": "ipython3",
   "version": "3.10.11"
  },
  "orig_nbformat": 4
 },
 "nbformat": 4,
 "nbformat_minor": 2
}
