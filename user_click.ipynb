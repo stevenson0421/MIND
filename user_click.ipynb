{
 "cells": [
  {
   "cell_type": "code",
   "execution_count": 1,
   "metadata": {},
   "outputs": [],
   "source": [
    "from sklearn.metrics import accuracy_score, f1_score, roc_auc_score\n",
    "\n",
    "import numpy as np\n",
    "import pandas as pd\n",
    "\n",
    "import torch\n",
    "from torch.nn import Module, Linear, ReLU, Sigmoid, BCELoss\n",
    "from torch.utils.data import Dataset, DataLoader, random_split\n",
    "from torch.utils.tensorboard import SummaryWriter\n",
    "\n",
    "import time\n",
    "import os\n",
    "import tqdm"
   ]
  },
  {
   "attachments": {},
   "cell_type": "markdown",
   "metadata": {},
   "source": [
    "# Set Random Seed"
   ]
  },
  {
   "cell_type": "code",
   "execution_count": 2,
   "metadata": {},
   "outputs": [],
   "source": [
    "seed=24\n",
    "torch.manual_seed(seed)\n",
    "torch.cuda.manual_seed(seed)\n",
    "np.random.seed(seed)\n",
    "torch.backends.cudnn.deterministic=True"
   ]
  },
  {
   "attachments": {},
   "cell_type": "markdown",
   "metadata": {},
   "source": [
    "# Dataset"
   ]
  },
  {
   "cell_type": "code",
   "execution_count": 3,
   "metadata": {},
   "outputs": [],
   "source": [
    "class CustomDataset(Dataset):\n",
    "    def __init__(self, x, y=None):\n",
    "        super().__init__()\n",
    "\n",
    "        self.x = x\n",
    "        if torch.is_tensor(y):\n",
    "            self.train = True\n",
    "            self.y = y\n",
    "        else:\n",
    "            self.train = False\n",
    "\n",
    "    def __len__(self):\n",
    "        return len(self.x)\n",
    "    \n",
    "    def __getitem__(self, index):\n",
    "        if self.train:\n",
    "            return self.x[index], self.y[index]\n",
    "        else:\n",
    "            return self.x[index]"
   ]
  },
  {
   "attachments": {},
   "cell_type": "markdown",
   "metadata": {},
   "source": [
    "# Network"
   ]
  },
  {
   "cell_type": "code",
   "execution_count": 4,
   "metadata": {},
   "outputs": [],
   "source": [
    "class UserClickNetwork(Module):\n",
    "    def __init__(self, input_dimension, hidden_dimension, output_dimension):\n",
    "        super().__init__()\n",
    "\n",
    "        def init_parameters(layer, scale=1):\n",
    "            torch.nn.init.xavier_normal_(layer.weight, gain=scale)\n",
    "            torch.nn.init.zeros_(layer.bias)\n",
    "\n",
    "        self.fc1 = Linear(in_features=input_dimension, out_features=hidden_dimension)\n",
    "        init_parameters(self.fc1)\n",
    "        self.fc2 = Linear(in_features=hidden_dimension, out_features=hidden_dimension*2)\n",
    "        init_parameters(self.fc2)\n",
    "        self.fc3 = Linear(in_features=hidden_dimension*2, out_features=hidden_dimension)\n",
    "        init_parameters(self.fc3)\n",
    "        self.fc4 = Linear(in_features=hidden_dimension, out_features=output_dimension)\n",
    "        init_parameters(self.fc4)\n",
    "        \n",
    "        self.relu = ReLU()\n",
    "        self.sigmoid = Sigmoid()\n",
    "\n",
    "    def forward(self, input_vector):\n",
    "        latent = self.relu(self.fc1(input_vector))\n",
    "        latent = self.relu(self.fc2(latent))\n",
    "        latent = self.relu(self.fc3(latent))\n",
    "        output = self.sigmoid(self.fc4(latent))\n",
    "\n",
    "        return output"
   ]
  },
  {
   "attachments": {},
   "cell_type": "markdown",
   "metadata": {},
   "source": [
    "# Load Data"
   ]
  },
  {
   "cell_type": "code",
   "execution_count": 5,
   "metadata": {},
   "outputs": [],
   "source": [
    "# load news data\n",
    "column_names = ['News_id', 'Category', 'Subcategory', 'Title', 'Abstract', 'URL', 'Title_Entities', 'Abstract_Entities']\n",
    "news = pd.read_csv('./data/train_news.tsv', sep='\\t', names=column_names)\n",
    "news2 = pd.read_csv('./data/test_news.tsv', sep='\\t', names=column_names)\n",
    "news = pd.concat([news, news2], ignore_index=True)\n",
    "del news2\n",
    "\n",
    "column_names = ['Impression_id', 'User', 'Time', 'Clicked_News', 'Impressions']\n",
    "behaviors = pd.read_csv('./data/train_behaviors.tsv', sep='\\t', names=column_names)\n",
    "behaviors_test = pd.read_csv('./data/test_behaviors.tsv', sep='\\t', names=column_names)"
   ]
  },
  {
   "attachments": {},
   "cell_type": "markdown",
   "metadata": {},
   "source": [
    "# User Vector"
   ]
  },
  {
   "cell_type": "code",
   "execution_count": 6,
   "metadata": {},
   "outputs": [
    {
     "name": "stderr",
     "output_type": "stream",
     "text": [
      "100%|██████████| 285297/285297 [00:12<00:00, 23347.20it/s]\n",
      "100%|██████████| 46332/46332 [00:01<00:00, 24419.89it/s]\n",
      "100%|██████████| 285297/285297 [00:06<00:00, 44574.34it/s]\n",
      "100%|██████████| 46332/46332 [00:00<00:00, 84550.56it/s]\n",
      "100%|██████████| 285297/285297 [00:00<00:00, 412481.18it/s]\n",
      "100%|██████████| 46332/46332 [00:00<00:00, 392938.51it/s]\n"
     ]
    }
   ],
   "source": [
    "one_hot_category = pd.get_dummies(news['Category']).astype(float).values\n",
    "one_hot_category_map = {news['News_id'][i]:one_hot_category[i] for i in range(len(news))}\n",
    "\n",
    "num_of_class = one_hot_category.shape[1]\n",
    "\n",
    "num_of_rows = behaviors.shape[0]\n",
    "num_of_rows_test = behaviors_test.shape[0]\n",
    "\n",
    "# User history sum\n",
    "user_clicked = np.empty((num_of_rows, num_of_class))\n",
    "click_news = behaviors['Clicked_News'].values\n",
    "for i in tqdm.tqdm(range(num_of_rows)):\n",
    "    for click in click_news[i].split():\n",
    "        user_clicked[i] += one_hot_category_map[click]\n",
    "\n",
    "user_clicked_test = np.empty((num_of_rows_test, num_of_class))\n",
    "click_news_test = behaviors_test['Clicked_News'].values\n",
    "for i in tqdm.tqdm(range(num_of_rows_test)):\n",
    "    for click in click_news_test[i].split():\n",
    "        user_clicked_test[i] += one_hot_category_map[click]\n",
    "\n",
    "## User impressions\n",
    "impression = np.empty((num_of_rows, 15, num_of_class))\n",
    "impression_clicked = []\n",
    "impressions = behaviors['Impressions'].values\n",
    "for i in tqdm.tqdm(range(num_of_rows)):\n",
    "    impression_i = impressions[i].split()\n",
    "    impression_label = []\n",
    "    for j in range(15):\n",
    "        impress_j = impression_i[j].split('-')\n",
    "        # impress_j = impression_i[j]\n",
    "        impress = impress_j[0]\n",
    "        impression[i, j] = one_hot_category_map[impress]\n",
    "\n",
    "        impression_label.append(int(impress_j[1]))\n",
    "    impression_clicked.append(impression_label)\n",
    "\n",
    "impression_test = np.empty((num_of_rows_test, 15, num_of_class))\n",
    "impressions = behaviors_test['Impressions'].values\n",
    "for i in tqdm.tqdm(range(num_of_rows_test)):\n",
    "    impression_i = impressions[i].split()\n",
    "    for j in range(15):\n",
    "        impress_j = impression_i[j]\n",
    "        impression_test[i, j] = one_hot_category_map[impress_j]\n",
    "\n",
    "user_vector = np.empty((num_of_rows, 15))\n",
    "for i in tqdm.tqdm(range(num_of_rows)):\n",
    "    user_vector[i] = impression[i] @ user_clicked[i]\n",
    "\n",
    "user_vector_test = np.empty((num_of_rows_test, 15))\n",
    "for i in tqdm.tqdm(range(num_of_rows_test)):\n",
    "    user_vector_test[i] = impression_test[i] @ user_clicked_test[i]"
   ]
  },
  {
   "cell_type": "code",
   "execution_count": 7,
   "metadata": {},
   "outputs": [
    {
     "name": "stdout",
     "output_type": "stream",
     "text": [
      "torch.Size([285297, 15])\n",
      "torch.Size([285297, 15])\n",
      "torch.Size([46332, 15])\n"
     ]
    }
   ],
   "source": [
    "train_x = torch.FloatTensor(user_vector)\n",
    "print(train_x.shape)\n",
    "train_y = torch.FloatTensor(np.array(impression_clicked))\n",
    "print(train_y.shape)\n",
    "test_x = torch.FloatTensor(user_vector_test)\n",
    "print(test_x.shape)"
   ]
  },
  {
   "cell_type": "code",
   "execution_count": 70,
   "metadata": {},
   "outputs": [],
   "source": [
    "number_of_epoch = 200\n",
    "learning_rate = 0.0001\n",
    "batch_size = 128\n",
    "embedding_dimension = train_x.shape[1]\n",
    "hidden_dimension = 256\n",
    "latent_dimension = 256\n",
    "output_dimension = 15\n",
    "device = torch.device('cuda' if torch.cuda.is_available() else 'cpu')\n",
    "_, counts = train_y.reshape(-1).unique(return_counts=True)\n",
    "class_weights = (1 / (counts / counts.sum()))"
   ]
  },
  {
   "cell_type": "code",
   "execution_count": 60,
   "metadata": {},
   "outputs": [
    {
     "data": {
      "text/plain": [
       "tensor([1.1259, 8.9415])"
      ]
     },
     "execution_count": 60,
     "metadata": {},
     "output_type": "execute_result"
    }
   ],
   "source": [
    "class_weights"
   ]
  },
  {
   "cell_type": "code",
   "execution_count": null,
   "metadata": {},
   "outputs": [],
   "source": [
    "# news_embeddings = np.load('./data/news_embedding/news_embedding_vector.npy')\n",
    "# user_embeddings = np.load('./data/user_embedding/user_embedding_vector.npy')\n",
    "\n",
    "# dot_vector = np.empty((behaviors.shape[0], latent_dimension), dtype=np.float32)\n",
    "# pointer = 0\n",
    "# for i in range(len(behaviors['Target_News'])):\n",
    "#     vec_list = []\n",
    "#     user_embedding = user_embeddings[i]\n",
    "#     for j in behaviors['Target_News'][i].split():\n",
    "#         index = news[news['News_id']==j].index[0]\n",
    "#         vec_list.append(news_embeddings[index])\n",
    "#     dot_vector[pointer] = np.dot(np.mean(vec_list, axis=0), user_embedding)\n",
    "#     pointer += 1\n",
    "\n",
    "# dot_vector_tensor = torch.FloatTensor(dot_vector)\n",
    "\n",
    "# print('user mapped with news vector (input)')"
   ]
  },
  {
   "cell_type": "code",
   "execution_count": null,
   "metadata": {},
   "outputs": [],
   "source": [
    "# target_clicked = np.empty((behaviors.shape[0], target_dimension), dtype=np.float32)\n",
    "# pointer = 0\n",
    "# for i in behaviors['Target_News_Clicked']:\n",
    "#     target_clicked[pointer] = list(map(int, i.split()))\n",
    "\n",
    "# target_clicked_tensor = torch.LongTensor(target_clicked)\n",
    "\n",
    "# print('user clicked target (target) encoded')"
   ]
  },
  {
   "attachments": {},
   "cell_type": "markdown",
   "metadata": {},
   "source": [
    "# Train"
   ]
  },
  {
   "cell_type": "code",
   "execution_count": 53,
   "metadata": {},
   "outputs": [],
   "source": [
    "train_dataset = CustomDataset(train_x, train_y)\n",
    "\n",
    "whole_train_loader = DataLoader(train_dataset, batch_size=batch_size, shuffle=True)\n",
    "\n",
    "generator = torch.Generator()\n",
    "data_list = random_split(train_dataset, [0.7, 0.3], generator)\n",
    "\n",
    "train_loader = DataLoader(data_list[0], batch_size=batch_size, shuffle=True)\n",
    "val_loader = DataLoader(data_list[1], batch_size=batch_size)\n",
    "\n",
    "test_dataset = CustomDataset(test_x)\n",
    "test_loader = DataLoader(test_dataset, batch_size=batch_size)"
   ]
  },
  {
   "cell_type": "code",
   "execution_count": 56,
   "metadata": {},
   "outputs": [],
   "source": [
    "class BCELoss_weight(Module):\n",
    "    def __init__(self, weight):\n",
    "        super().__init__()\n",
    "        self.weight = weight\n",
    "\n",
    "    def forward(self, target, predict):\n",
    "        predict = torch.clamp(predict, min=1e-6, max=1-1e-6)\n",
    "        bce = -self.weight[1]*target*torch.log(predict) - self.weight[0]*(1-target)*torch.log(1-predict)\n",
    "        return torch.mean(bce)"
   ]
  },
  {
   "cell_type": "code",
   "execution_count": 69,
   "metadata": {},
   "outputs": [
    {
     "name": "stderr",
     "output_type": "stream",
     "text": [
      "  0%|          | 0/200 [00:00<?, ?it/s]"
     ]
    },
    {
     "name": "stderr",
     "output_type": "stream",
     "text": [
      "  6%|▌         | 12/200 [02:27<38:34, 12.31s/it]\n"
     ]
    },
    {
     "ename": "KeyboardInterrupt",
     "evalue": "",
     "output_type": "error",
     "traceback": [
      "\u001b[1;31m---------------------------------------------------------------------------\u001b[0m",
      "\u001b[1;31mKeyboardInterrupt\u001b[0m                         Traceback (most recent call last)",
      "Cell \u001b[1;32mIn[69], line 32\u001b[0m\n\u001b[0;32m     30\u001b[0m optimizer\u001b[39m.\u001b[39mzero_grad()\n\u001b[0;32m     31\u001b[0m loss\u001b[39m.\u001b[39mbackward()\n\u001b[1;32m---> 32\u001b[0m optimizer\u001b[39m.\u001b[39;49mstep()\n\u001b[0;32m     34\u001b[0m \u001b[39mwith\u001b[39;00m torch\u001b[39m.\u001b[39mno_grad():\n\u001b[0;32m     35\u001b[0m     predict \u001b[39m=\u001b[39m predict\u001b[39m.\u001b[39mcpu()\u001b[39m.\u001b[39mnumpy()\n",
      "File \u001b[1;32mc:\\Users\\ccis229c\\Anaconda3\\envs\\ml\\lib\\site-packages\\torch\\optim\\optimizer.py:280\u001b[0m, in \u001b[0;36mOptimizer.profile_hook_step.<locals>.wrapper\u001b[1;34m(*args, **kwargs)\u001b[0m\n\u001b[0;32m    276\u001b[0m         \u001b[39melse\u001b[39;00m:\n\u001b[0;32m    277\u001b[0m             \u001b[39mraise\u001b[39;00m \u001b[39mRuntimeError\u001b[39;00m(\u001b[39mf\u001b[39m\u001b[39m\"\u001b[39m\u001b[39m{\u001b[39;00mfunc\u001b[39m}\u001b[39;00m\u001b[39m must return None or a tuple of (new_args, new_kwargs),\u001b[39m\u001b[39m\"\u001b[39m\n\u001b[0;32m    278\u001b[0m                                \u001b[39mf\u001b[39m\u001b[39m\"\u001b[39m\u001b[39mbut got \u001b[39m\u001b[39m{\u001b[39;00mresult\u001b[39m}\u001b[39;00m\u001b[39m.\u001b[39m\u001b[39m\"\u001b[39m)\n\u001b[1;32m--> 280\u001b[0m out \u001b[39m=\u001b[39m func(\u001b[39m*\u001b[39margs, \u001b[39m*\u001b[39m\u001b[39m*\u001b[39mkwargs)\n\u001b[0;32m    281\u001b[0m \u001b[39mself\u001b[39m\u001b[39m.\u001b[39m_optimizer_step_code()\n\u001b[0;32m    283\u001b[0m \u001b[39m# call optimizer step post hooks\u001b[39;00m\n",
      "File \u001b[1;32mc:\\Users\\ccis229c\\Anaconda3\\envs\\ml\\lib\\site-packages\\torch\\optim\\optimizer.py:33\u001b[0m, in \u001b[0;36m_use_grad_for_differentiable.<locals>._use_grad\u001b[1;34m(self, *args, **kwargs)\u001b[0m\n\u001b[0;32m     31\u001b[0m \u001b[39mtry\u001b[39;00m:\n\u001b[0;32m     32\u001b[0m     torch\u001b[39m.\u001b[39mset_grad_enabled(\u001b[39mself\u001b[39m\u001b[39m.\u001b[39mdefaults[\u001b[39m'\u001b[39m\u001b[39mdifferentiable\u001b[39m\u001b[39m'\u001b[39m])\n\u001b[1;32m---> 33\u001b[0m     ret \u001b[39m=\u001b[39m func(\u001b[39mself\u001b[39m, \u001b[39m*\u001b[39margs, \u001b[39m*\u001b[39m\u001b[39m*\u001b[39mkwargs)\n\u001b[0;32m     34\u001b[0m \u001b[39mfinally\u001b[39;00m:\n\u001b[0;32m     35\u001b[0m     torch\u001b[39m.\u001b[39mset_grad_enabled(prev_grad)\n",
      "File \u001b[1;32mc:\\Users\\ccis229c\\Anaconda3\\envs\\ml\\lib\\site-packages\\torch\\optim\\adam.py:141\u001b[0m, in \u001b[0;36mAdam.step\u001b[1;34m(self, closure)\u001b[0m\n\u001b[0;32m    130\u001b[0m     beta1, beta2 \u001b[39m=\u001b[39m group[\u001b[39m'\u001b[39m\u001b[39mbetas\u001b[39m\u001b[39m'\u001b[39m]\n\u001b[0;32m    132\u001b[0m     \u001b[39mself\u001b[39m\u001b[39m.\u001b[39m_init_group(\n\u001b[0;32m    133\u001b[0m         group,\n\u001b[0;32m    134\u001b[0m         params_with_grad,\n\u001b[1;32m   (...)\u001b[0m\n\u001b[0;32m    138\u001b[0m         max_exp_avg_sqs,\n\u001b[0;32m    139\u001b[0m         state_steps)\n\u001b[1;32m--> 141\u001b[0m     adam(\n\u001b[0;32m    142\u001b[0m         params_with_grad,\n\u001b[0;32m    143\u001b[0m         grads,\n\u001b[0;32m    144\u001b[0m         exp_avgs,\n\u001b[0;32m    145\u001b[0m         exp_avg_sqs,\n\u001b[0;32m    146\u001b[0m         max_exp_avg_sqs,\n\u001b[0;32m    147\u001b[0m         state_steps,\n\u001b[0;32m    148\u001b[0m         amsgrad\u001b[39m=\u001b[39;49mgroup[\u001b[39m'\u001b[39;49m\u001b[39mamsgrad\u001b[39;49m\u001b[39m'\u001b[39;49m],\n\u001b[0;32m    149\u001b[0m         beta1\u001b[39m=\u001b[39;49mbeta1,\n\u001b[0;32m    150\u001b[0m         beta2\u001b[39m=\u001b[39;49mbeta2,\n\u001b[0;32m    151\u001b[0m         lr\u001b[39m=\u001b[39;49mgroup[\u001b[39m'\u001b[39;49m\u001b[39mlr\u001b[39;49m\u001b[39m'\u001b[39;49m],\n\u001b[0;32m    152\u001b[0m         weight_decay\u001b[39m=\u001b[39;49mgroup[\u001b[39m'\u001b[39;49m\u001b[39mweight_decay\u001b[39;49m\u001b[39m'\u001b[39;49m],\n\u001b[0;32m    153\u001b[0m         eps\u001b[39m=\u001b[39;49mgroup[\u001b[39m'\u001b[39;49m\u001b[39meps\u001b[39;49m\u001b[39m'\u001b[39;49m],\n\u001b[0;32m    154\u001b[0m         maximize\u001b[39m=\u001b[39;49mgroup[\u001b[39m'\u001b[39;49m\u001b[39mmaximize\u001b[39;49m\u001b[39m'\u001b[39;49m],\n\u001b[0;32m    155\u001b[0m         foreach\u001b[39m=\u001b[39;49mgroup[\u001b[39m'\u001b[39;49m\u001b[39mforeach\u001b[39;49m\u001b[39m'\u001b[39;49m],\n\u001b[0;32m    156\u001b[0m         capturable\u001b[39m=\u001b[39;49mgroup[\u001b[39m'\u001b[39;49m\u001b[39mcapturable\u001b[39;49m\u001b[39m'\u001b[39;49m],\n\u001b[0;32m    157\u001b[0m         differentiable\u001b[39m=\u001b[39;49mgroup[\u001b[39m'\u001b[39;49m\u001b[39mdifferentiable\u001b[39;49m\u001b[39m'\u001b[39;49m],\n\u001b[0;32m    158\u001b[0m         fused\u001b[39m=\u001b[39;49mgroup[\u001b[39m'\u001b[39;49m\u001b[39mfused\u001b[39;49m\u001b[39m'\u001b[39;49m],\n\u001b[0;32m    159\u001b[0m         grad_scale\u001b[39m=\u001b[39;49m\u001b[39mgetattr\u001b[39;49m(\u001b[39mself\u001b[39;49m, \u001b[39m\"\u001b[39;49m\u001b[39mgrad_scale\u001b[39;49m\u001b[39m\"\u001b[39;49m, \u001b[39mNone\u001b[39;49;00m),\n\u001b[0;32m    160\u001b[0m         found_inf\u001b[39m=\u001b[39;49m\u001b[39mgetattr\u001b[39;49m(\u001b[39mself\u001b[39;49m, \u001b[39m\"\u001b[39;49m\u001b[39mfound_inf\u001b[39;49m\u001b[39m\"\u001b[39;49m, \u001b[39mNone\u001b[39;49;00m),\n\u001b[0;32m    161\u001b[0m     )\n\u001b[0;32m    163\u001b[0m \u001b[39mreturn\u001b[39;00m loss\n",
      "File \u001b[1;32mc:\\Users\\ccis229c\\Anaconda3\\envs\\ml\\lib\\site-packages\\torch\\optim\\adam.py:281\u001b[0m, in \u001b[0;36madam\u001b[1;34m(params, grads, exp_avgs, exp_avg_sqs, max_exp_avg_sqs, state_steps, foreach, capturable, differentiable, fused, grad_scale, found_inf, amsgrad, beta1, beta2, lr, weight_decay, eps, maximize)\u001b[0m\n\u001b[0;32m    278\u001b[0m \u001b[39melse\u001b[39;00m:\n\u001b[0;32m    279\u001b[0m     func \u001b[39m=\u001b[39m _single_tensor_adam\n\u001b[1;32m--> 281\u001b[0m func(params,\n\u001b[0;32m    282\u001b[0m      grads,\n\u001b[0;32m    283\u001b[0m      exp_avgs,\n\u001b[0;32m    284\u001b[0m      exp_avg_sqs,\n\u001b[0;32m    285\u001b[0m      max_exp_avg_sqs,\n\u001b[0;32m    286\u001b[0m      state_steps,\n\u001b[0;32m    287\u001b[0m      amsgrad\u001b[39m=\u001b[39;49mamsgrad,\n\u001b[0;32m    288\u001b[0m      beta1\u001b[39m=\u001b[39;49mbeta1,\n\u001b[0;32m    289\u001b[0m      beta2\u001b[39m=\u001b[39;49mbeta2,\n\u001b[0;32m    290\u001b[0m      lr\u001b[39m=\u001b[39;49mlr,\n\u001b[0;32m    291\u001b[0m      weight_decay\u001b[39m=\u001b[39;49mweight_decay,\n\u001b[0;32m    292\u001b[0m      eps\u001b[39m=\u001b[39;49meps,\n\u001b[0;32m    293\u001b[0m      maximize\u001b[39m=\u001b[39;49mmaximize,\n\u001b[0;32m    294\u001b[0m      capturable\u001b[39m=\u001b[39;49mcapturable,\n\u001b[0;32m    295\u001b[0m      differentiable\u001b[39m=\u001b[39;49mdifferentiable,\n\u001b[0;32m    296\u001b[0m      grad_scale\u001b[39m=\u001b[39;49mgrad_scale,\n\u001b[0;32m    297\u001b[0m      found_inf\u001b[39m=\u001b[39;49mfound_inf)\n",
      "File \u001b[1;32mc:\\Users\\ccis229c\\Anaconda3\\envs\\ml\\lib\\site-packages\\torch\\optim\\adam.py:445\u001b[0m, in \u001b[0;36m_multi_tensor_adam\u001b[1;34m(params, grads, exp_avgs, exp_avg_sqs, max_exp_avg_sqs, state_steps, grad_scale, found_inf, amsgrad, beta1, beta2, lr, weight_decay, eps, maximize, capturable, differentiable)\u001b[0m\n\u001b[0;32m    442\u001b[0m     device_grads \u001b[39m=\u001b[39m torch\u001b[39m.\u001b[39m_foreach_add(device_grads, device_params, alpha\u001b[39m=\u001b[39mweight_decay)\n\u001b[0;32m    444\u001b[0m \u001b[39m# Decay the first and second moment running average coefficient\u001b[39;00m\n\u001b[1;32m--> 445\u001b[0m torch\u001b[39m.\u001b[39;49m_foreach_mul_(device_exp_avgs, beta1)\n\u001b[0;32m    446\u001b[0m torch\u001b[39m.\u001b[39m_foreach_add_(device_exp_avgs, device_grads, alpha\u001b[39m=\u001b[39m\u001b[39m1\u001b[39m \u001b[39m-\u001b[39m beta1)\n\u001b[0;32m    448\u001b[0m torch\u001b[39m.\u001b[39m_foreach_mul_(device_exp_avg_sqs, beta2)\n",
      "\u001b[1;31mKeyboardInterrupt\u001b[0m: "
     ]
    }
   ],
   "source": [
    "if not os.path.exists('./runs/'):\n",
    "    os.makedirs('./runs/')\n",
    "\n",
    "if not os.path.exists('./model/'):\n",
    "    os.makedirs('./model/')\n",
    "\n",
    "writer = SummaryWriter(log_dir=f'./runs/user_click_{time.strftime(\"%Y%m%d-%H%M%S\")}')\n",
    "\n",
    "network = UserClickNetwork(input_dimension=embedding_dimension,\n",
    "                            hidden_dimension=hidden_dimension,\n",
    "                            output_dimension=output_dimension).to(device)\n",
    "\n",
    "optimizer = torch.optim.Adam(network.parameters(), lr=learning_rate)\n",
    "criterion = BCELoss_weight(weight=class_weights)\n",
    "\n",
    "start_time = time.time()\n",
    "for epoch in tqdm.tqdm(range(number_of_epoch)):\n",
    "    network.to(device)\n",
    "    predicts = np.empty((len(train_x)*15,))\n",
    "    labels = np.empty((len(train_x)*15,))\n",
    "    pointer = 0\n",
    "    for i, (x, y) in enumerate(train_loader):\n",
    "        x = x.to(device)\n",
    "        y = y.to(device)\n",
    "        predict = network.forward(x)\n",
    "        predict = torch.flatten(predict)\n",
    "        y = torch.flatten(y)\n",
    "        loss = criterion(predict, y)\n",
    "\n",
    "        optimizer.zero_grad()\n",
    "        loss.backward()\n",
    "        optimizer.step()\n",
    "\n",
    "        with torch.no_grad():\n",
    "            predict = predict.cpu().numpy()\n",
    "            y = y.cpu().numpy()\n",
    "            mb_size = len(predict)\n",
    "            predicts[pointer:pointer+mb_size] = predict\n",
    "            labels[pointer:pointer+mb_size] = y\n",
    "            pointer += mb_size\n",
    "\n",
    "        del x, y, predict\n",
    "\n",
    "    writer.add_scalar('Loss', loss, epoch)\n",
    "\n",
    "    writer.add_scalar('Predict', predicts.sum(), epoch)\n",
    "\n",
    "    auc = roc_auc_score(labels, predicts)\n",
    "    predicts = np.where(predicts >= 0.5, 1, 0)\n",
    "    accuracy = accuracy_score(labels, predicts)\n",
    "    f1 = f1_score(labels, predicts)\n",
    "    writer.add_scalar('Train AUC', auc, epoch)\n",
    "    writer.add_scalar('Train Accuracy', accuracy, epoch)\n",
    "    writer.add_scalar('Train F1', f1, epoch)\n",
    "\n",
    "    network.to('cpu')\n",
    "    with torch.no_grad():\n",
    "        predicts = np.zeros((len(train_x)*15,))\n",
    "        labels = np.empty((len(train_x)*15,))\n",
    "        pointer = 0\n",
    "        for i, (x, y) in enumerate(val_loader):\n",
    "            predict = network.forward(x)\n",
    "            predict = torch.flatten(predict).numpy()\n",
    "            y = torch.flatten(y).numpy()\n",
    "            mb_size = len(predict)\n",
    "            predicts[pointer:pointer+mb_size] = predict\n",
    "            labels[pointer:pointer+mb_size] = y\n",
    "            pointer += mb_size\n",
    "\n",
    "            del x, y, predict\n",
    "    auc = roc_auc_score(labels, predicts)\n",
    "    predicts = np.where(predicts >= 0.5, 1, 0)\n",
    "    accuracy = accuracy_score(labels, predicts)\n",
    "    f1 = f1_score(labels, predicts)\n",
    "    writer.add_scalar('Val AUC', auc, epoch)\n",
    "    writer.add_scalar('Val Accuracy', accuracy, epoch)\n",
    "    writer.add_scalar('Val F1', f1, epoch)\n",
    "\n",
    "    if epoch % 10 == 0:\n",
    "        torch.save(network.state_dict(),\n",
    "                    f'./model/user_click_{epoch}_{auc:.2f}.pth')\n",
    "\n",
    "print(f'train time: {time.time() - start_time} seconds')\n",
    "writer.close()"
   ]
  },
  {
   "cell_type": "code",
   "execution_count": null,
   "metadata": {},
   "outputs": [],
   "source": [
    "torch.save(network.state_dict(), f'./model/100_{auc:.2f}.pth')"
   ]
  },
  {
   "cell_type": "code",
   "execution_count": null,
   "metadata": {},
   "outputs": [],
   "source": [
    "writer = SummaryWriter(log_dir=f'./runs/user_click_{time.strftime(\"%Y%m%d-%H%M%S\")}')\n",
    "\n",
    "network = UserClickNetwork(input_dimension=embedding_dimension,\n",
    "                            hidden_dimension=hidden_dimension,\n",
    "                            output_dimension=output_dimension).to(device)\n",
    "\n",
    "optimizer = torch.optim.Adam(network.parameters(), lr=learning_rate)\n",
    "criterion = BCELoss()\n",
    "\n",
    "start_time = time.time()\n",
    "for epoch in tqdm.tqdm(range(number_of_epoch)):\n",
    "    network.to(device)\n",
    "    predicts = np.empty((len(train_x)*15,))\n",
    "    labels = np.empty((len(train_x)*15,))\n",
    "    pointer = 0\n",
    "    for i, (x, y) in enumerate(train_loader):\n",
    "        x = x.to(device)\n",
    "        y = y.to(device)\n",
    "        predict = network.forward(x)\n",
    "        predict = torch.flatten(predict)\n",
    "        y = torch.flatten(y)\n",
    "        loss = criterion(predict, y)\n",
    "\n",
    "        writer.add_scalar('Loss', loss, epoch)\n",
    "\n",
    "        optimizer.zero_grad()\n",
    "        loss.backward()\n",
    "        optimizer.step()\n",
    "\n",
    "        with torch.no_grad():\n",
    "            predict = predict.cpu().numpy()\n",
    "            y = y.cpu().numpy()\n",
    "            mb_size = len(predict)\n",
    "            predicts[pointer:pointer+mb_size] = predict\n",
    "            labels[pointer:pointer+mb_size] = y\n",
    "            pointer += mb_size\n",
    "\n",
    "        del x, y, predict\n",
    "\n",
    "    writer.add_scalar('Loss', loss, epoch)\n",
    "    \n",
    "    auc = roc_auc_score(labels, predicts)\n",
    "\n",
    "    predicts = np.where(predicts >= 0.5, 1, 0)\n",
    "    accuracy = accuracy_score(labels, predicts)\n",
    "    f1 = f1_score(labels, predicts)\n",
    "    writer.add_scalar('Train AUC', auc, epoch)\n",
    "    writer.add_scalar('Train Accuracy', accuracy_score, epoch)\n",
    "    writer.add_scalar('Train F1', f1_score, epoch)\n",
    "\n",
    "    del predicts\n",
    "\n",
    "    if epoch % 10 == 0:\n",
    "        torch.save(network.state_dict(),\n",
    "                    f'./model/whole_{epoch}_{auc:.2f}.pth')\n",
    "\n",
    "print(f'train time: {time.time() - start_time} seconds')\n",
    "writer.close()\n",
    "\n",
    "torch.save(network.state_dict(), f'./model/whole_100_{auc:.2f}.pth')"
   ]
  },
  {
   "cell_type": "code",
   "execution_count": null,
   "metadata": {},
   "outputs": [],
   "source": [
    "network.load_state_dict(torch.load('./model/100_0.87.pth'))\n",
    "network.to('cpu')\n",
    "\n",
    "with torch.no_grad():\n",
    "    predicts = np.empty((len(test_x),15))\n",
    "    pointer = 0\n",
    "    for i, x in enumerate(test_loader):\n",
    "        predict = network.forward(x)\n",
    "        predict = predict.numpy()\n",
    "        mb_size = len(predict)\n",
    "        predicts[pointer:pointer+mb_size] = predict\n",
    "        pointer += mb_size\n",
    "\n",
    "        del x, predict"
   ]
  },
  {
   "cell_type": "code",
   "execution_count": null,
   "metadata": {},
   "outputs": [],
   "source": [
    "submit = pd.DataFrame(predicts, columns=[f'p{i}' for i in range(1, 16)])\n",
    "submit.index.name = 'index'\n",
    "submit.to_csv('./data/submit.csv')"
   ]
  }
 ],
 "metadata": {
  "kernelspec": {
   "display_name": "ml",
   "language": "python",
   "name": "python3"
  },
  "language_info": {
   "codemirror_mode": {
    "name": "ipython",
    "version": 3
   },
   "file_extension": ".py",
   "mimetype": "text/x-python",
   "name": "python",
   "nbconvert_exporter": "python",
   "pygments_lexer": "ipython3",
   "version": "3.10.11"
  },
  "orig_nbformat": 4
 },
 "nbformat": 4,
 "nbformat_minor": 2
}
