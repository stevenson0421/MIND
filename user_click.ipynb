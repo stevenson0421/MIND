{
 "cells": [
  {
   "cell_type": "code",
   "execution_count": null,
   "metadata": {},
   "outputs": [],
   "source": [
    "from sklearn.preprocessing import LabelEncoder\n",
    "from sklearn.metrics import accuracy_score, f1_score, roc_auc_score\n",
    "\n",
    "import numpy as np\n",
    "import pandas as pd\n",
    "\n",
    "import torch\n",
    "from torch.nn import *\n",
    "from torch.utils.data import Dataset, DataLoader, SubsetRandomSampler, default_collate\n",
    "from torch.utils.tensorboard import SummaryWriter\n",
    "\n",
    "import time\n",
    "import os"
   ]
  },
  {
   "cell_type": "code",
   "execution_count": null,
   "metadata": {},
   "outputs": [],
   "source": [
    "seed=24\n",
    "torch.manual_seed(seed)\n",
    "torch.cuda.manual_seed(seed)\n",
    "np.random.seed(seed)\n",
    "torch.backends.cudnn.deterministic=True"
   ]
  },
  {
   "cell_type": "code",
   "execution_count": null,
   "metadata": {},
   "outputs": [],
   "source": [
    "class CustomDataset(Dataset):\n",
    "    def __init__(self, x, y):\n",
    "        super().__init__()\n",
    "\n",
    "        self.x = x\n",
    "        self.y = y\n",
    "\n",
    "    def __len__(self):\n",
    "        return len(self.x)\n",
    "    \n",
    "    def __getitem__(self, index):\n",
    "        return self.x[index], self.y[index]"
   ]
  },
  {
   "cell_type": "code",
   "execution_count": null,
   "metadata": {},
   "outputs": [],
   "source": [
    "class UserClickNetwork(Module):\n",
    "    def __init__(self, input_dimension, hidden_dimension, latent_dimension, id_dimension):\n",
    "        super().__init__()\n",
    "\n",
    "        def init_parameters(layer, scale=1):\n",
    "            torch.nn.init.xavier_normal_(layer.weight, gain=scale)\n",
    "            torch.nn.init.zeros_(layer.bias)\n",
    "\n",
    "        self.fc1 = Linear(in_features=input_dimension, out_features=hidden_dimension)\n",
    "        init_parameters(self.fc1)\n",
    "        self.fc2 = Linear(in_features=hidden_dimension, out_features=latent_dimension)\n",
    "        init_parameters(self.fc2)\n",
    "        self.fc3 = Linear(in_features=latent_dimension, out_features=hidden_dimension)\n",
    "        init_parameters(self.fc3)\n",
    "        self.fc4 = Linear(in_features=hidden_dimension, out_features=id_dimension)\n",
    "        init_parameters(self.fc4)\n",
    "        \n",
    "        self.relu = ReLU()\n",
    "        self.softmax = Softmax(dim=-1)\n",
    "\n",
    "    def forward(self, input_vector):\n",
    "        latent = self.relu(self.fc1(input_vector))\n",
    "        latent = self.relu(self.fc2(latent))\n",
    "        latent2 = self.softmax(self.fc3(latent))\n",
    "        id = self.softmax(self.fc4(latent2))\n",
    "\n",
    "        return latent, id"
   ]
  },
  {
   "cell_type": "code",
   "execution_count": null,
   "metadata": {},
   "outputs": [],
   "source": [
    "# load news data\n",
    "column_names = ['News_id', 'Category', 'Subcategory', 'Title', 'Abstract', 'URL', 'Title_Entities', 'Abstract_Entities']\n",
    "news = pd.read_csv('../data/train_news.tsv', sep='\\t', names=column_names)\n",
    "column_names = ['Impression_id', 'User', 'Time', 'Clicked_News', 'Impressions']\n",
    "behaviors = pd.read_csv('../data/train_behaviors.tsv', sep='\\t', names=column_names, parse_dates=['Time'])\n",
    "\n",
    "candidate_pairs = behaviors['Impressions'].str.split(expand=True)\n",
    "for col in candidate_pairs.columns:\n",
    "    candidate_pairs[['Article '+str(col), 'label '+str(col)]] = candidate_pairs[col].str.split(pat='-', expand=True)\n",
    "behaviors['Target_News'] = candidate_pairs[['Article '+str(i) for i in range(15)]].agg(' '.join, axis=1)\n",
    "behaviors['Target_News_Clicked'] = candidate_pairs[['label '+str(i) for i in range(15)]].agg(' '.join, axis=1)\n",
    "\n",
    "del candidate_pairs\n",
    "\n",
    "print('data loaded')"
   ]
  },
  {
   "cell_type": "code",
   "execution_count": null,
   "metadata": {},
   "outputs": [],
   "source": [
    "number_of_epoch = 100\n",
    "learning_rate = 0.005\n",
    "batch_size = 128\n",
    "embedding_dimension = 128\n",
    "hidden_dimension = 256\n",
    "latent_dimension = 256\n",
    "output_dimension = len(behaviors['User'].unique())\n",
    "device = torch.device('cuda' if torch.cuda.is_available() else 'cpu')"
   ]
  },
  {
   "cell_type": "code",
   "execution_count": null,
   "metadata": {},
   "outputs": [],
   "source": [
    "news_embeddings = np.load('./data/news_embedding/news_embedding_vector.npy')\n",
    "user_embeddings = np.load('./data/user_embedding/user_embedding_vector.npy')\n",
    "\n",
    "dot_vector = np.empty((behaviors.shape[0], latent_dimension), dtype=np.float32)\n",
    "pointer = 0\n",
    "for i in range(len(behaviors['Target_News'])):\n",
    "    vec_list = []\n",
    "    user_embedding = user_embeddings[i]\n",
    "    for j in behaviors['Target_News'][i].split():\n",
    "        index = news[news['News_id']==j].index[0]\n",
    "        vec_list.append(news_embeddings[index])\n",
    "    dot_vector[pointer] = np.dot(np.mean(vec_list, axis=0), user_embedding)\n",
    "    pointer += 1\n",
    "\n",
    "dot_vector_tensor = torch.FloatTensor(dot_vector)\n",
    "\n",
    "print('user mapped with news vector (input)')"
   ]
  },
  {
   "cell_type": "code",
   "execution_count": null,
   "metadata": {},
   "outputs": [],
   "source": [
    "target_clicked = np.empty((behaviors.shape[0], target_dimension), dtype=np.float32)\n",
    "pointer = 0\n",
    "for i in behaviors['Target_News_Clicked']:\n",
    "    target_clicked[pointer] = list(map(int, i.split()))\n",
    "\n",
    "target_clicked_tensor = torch.LongTensor(target_clicked)\n",
    "\n",
    "print('user clicked target (target) encoded')"
   ]
  },
  {
   "cell_type": "code",
   "execution_count": null,
   "metadata": {},
   "outputs": [],
   "source": [
    "dot_dataset = CustomDataset(dot_vector_tensor, target_clicked_tensor)\n",
    "\n",
    "train_loader = DataLoader(dot_dataset, batch_size=batch_size, shuffle=True,\n",
    "                          collate_fn=lambda x: tuple(x_.to(device) for x_ in default_collate(x)))\n",
    "\n",
    "output_dimension = len(news['Category'].unique())"
   ]
  },
  {
   "cell_type": "code",
   "execution_count": null,
   "metadata": {},
   "outputs": [],
   "source": [
    "writer = SummaryWriter(log_dir=f'./runs/user_click_{time.strftime(\"%Y%m%d-%H%M%S\")}')\n",
    "\n",
    "network = UserClickNetwork(input_dimension=embedding_dimension,\n",
    "                               hidden_dimension=hidden_dimension,\n",
    "                               latent_dimension=latent_dimension,\n",
    "                               id_dimension=output_dimension).to(device)\n",
    "\n",
    "optimizer = torch.optim.Adam(network.parameters(), lr=learning_rate)\n",
    "criterion = CrossEntropyLoss()\n",
    "\n",
    "start_time = time.time()\n",
    "for epoch in range(number_of_epoch):\n",
    "    for i, (x, y) in enumerate(train_loader):\n",
    "        latent, id = network.forward(x)\n",
    "        loss = criterion(id, y)\n",
    "\n",
    "        optimizer.zero_grad()\n",
    "        loss.backward()\n",
    "        optimizer.step()\n",
    "\n",
    "    writer.add_scalar('Loss', loss, epoch)\n",
    "\n",
    "    with torch.no_grad():\n",
    "        _, id = network.forward(dot_vector_tensor.to(device))\n",
    "        id = id.cpu().numpy()\n",
    "        predict = np.argmax(id, axis=1)\n",
    "        label = target_clicked\n",
    "        accuracy = accuracy_score(label, predict)\n",
    "        f1 = f1_score(label, predict, average='weighted')\n",
    "        auc = roc_auc_score(label, id, multi_class='ovr')\n",
    "\n",
    "\n",
    "    writer.add_scalar('Accuracy', accuracy, epoch)\n",
    "    writer.add_scalar('F1', f1, epoch)\n",
    "    writer.add_scalar('AUC', auc, epoch)\n",
    "\n",
    "print(f'user embedding train time: {time.time() - start_time} seconds')\n",
    "writer.close()"
   ]
  }
 ],
 "metadata": {
  "language_info": {
   "name": "python"
  },
  "orig_nbformat": 4
 },
 "nbformat": 4,
 "nbformat_minor": 2
}
