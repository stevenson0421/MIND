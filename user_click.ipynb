{
 "cells": [
  {
   "cell_type": "code",
   "execution_count": 1,
   "metadata": {},
   "outputs": [],
   "source": [
    "from sklearn.metrics import accuracy_score, f1_score, roc_auc_score\n",
    "\n",
    "import numpy as np\n",
    "import pandas as pd\n",
    "\n",
    "import torch\n",
    "from torch.nn import Module, Linear, ReLU, Sigmoid, BCELoss\n",
    "from torch.utils.data import Dataset, DataLoader, random_split\n",
    "from torch.utils.tensorboard import SummaryWriter\n",
    "\n",
    "import time\n",
    "import os\n",
    "import tqdm"
   ]
  },
  {
   "attachments": {},
   "cell_type": "markdown",
   "metadata": {},
   "source": [
    "# Set Random Seed"
   ]
  },
  {
   "cell_type": "code",
   "execution_count": 2,
   "metadata": {},
   "outputs": [],
   "source": [
    "seed=24\n",
    "torch.manual_seed(seed)\n",
    "torch.cuda.manual_seed(seed)\n",
    "np.random.seed(seed)\n",
    "torch.backends.cudnn.deterministic=True"
   ]
  },
  {
   "attachments": {},
   "cell_type": "markdown",
   "metadata": {},
   "source": [
    "# Dataset"
   ]
  },
  {
   "cell_type": "code",
   "execution_count": 3,
   "metadata": {},
   "outputs": [],
   "source": [
    "class CustomDataset(Dataset):\n",
    "    def __init__(self, x, y=None):\n",
    "        super().__init__()\n",
    "\n",
    "        self.x = x\n",
    "        if torch.is_tensor(y):\n",
    "            self.train = True\n",
    "            self.y = y\n",
    "        else:\n",
    "            self.train = False\n",
    "\n",
    "    def __len__(self):\n",
    "        return len(self.x)\n",
    "    \n",
    "    def __getitem__(self, index):\n",
    "        if self.train:\n",
    "            return self.x[index], self.y[index]\n",
    "        else:\n",
    "            return self.x[index]"
   ]
  },
  {
   "attachments": {},
   "cell_type": "markdown",
   "metadata": {},
   "source": [
    "# Network"
   ]
  },
  {
   "cell_type": "code",
   "execution_count": 4,
   "metadata": {},
   "outputs": [],
   "source": [
    "class UserClickNetwork(Module):\n",
    "    def __init__(self, input_dimension, hidden_dimension, output_dimension):\n",
    "        super().__init__()\n",
    "\n",
    "        def init_parameters(layer, scale=1):\n",
    "            torch.nn.init.xavier_normal_(layer.weight, gain=scale)\n",
    "            torch.nn.init.zeros_(layer.bias)\n",
    "\n",
    "        self.fc1 = Linear(in_features=input_dimension, out_features=hidden_dimension)\n",
    "        init_parameters(self.fc1)\n",
    "        self.fc2 = Linear(in_features=hidden_dimension, out_features=hidden_dimension*2)\n",
    "        init_parameters(self.fc2)\n",
    "        self.fc3 = Linear(in_features=hidden_dimension*2, out_features=hidden_dimension)\n",
    "        init_parameters(self.fc3)\n",
    "        self.fc4 = Linear(in_features=hidden_dimension, out_features=output_dimension)\n",
    "        init_parameters(self.fc4)\n",
    "        \n",
    "        self.relu = ReLU()\n",
    "        self.sigmoid = Sigmoid()\n",
    "\n",
    "    def forward(self, input_vector):\n",
    "        latent = self.relu(self.fc1(input_vector))\n",
    "        latent = self.relu(self.fc2(latent))\n",
    "        latent = self.relu(self.fc3(latent))\n",
    "        output = self.sigmoid(self.fc4(latent))\n",
    "\n",
    "        return output"
   ]
  },
  {
   "attachments": {},
   "cell_type": "markdown",
   "metadata": {},
   "source": [
    "# Load Data"
   ]
  },
  {
   "cell_type": "code",
   "execution_count": 5,
   "metadata": {},
   "outputs": [],
   "source": [
    "# load news data\n",
    "column_names = ['News_id', 'Category', 'Subcategory', 'Title', 'Abstract', 'URL', 'Title_Entities', 'Abstract_Entities']\n",
    "news = pd.read_csv('./data/train_news.tsv', sep='\\t', names=column_names)\n",
    "news2 = pd.read_csv('./data/test_news.tsv', sep='\\t', names=column_names)\n",
    "news = pd.concat([news, news2], ignore_index=True)\n",
    "del news2\n",
    "\n",
    "column_names = ['Impression_id', 'User', 'Time', 'Clicked_News', 'Impressions']\n",
    "behaviors = pd.read_csv('./data/train_behaviors.tsv', sep='\\t', names=column_names)\n",
    "behaviors_test = pd.read_csv('./data/test_behaviors.tsv', sep='\\t', names=column_names)"
   ]
  },
  {
   "attachments": {},
   "cell_type": "markdown",
   "metadata": {},
   "source": [
    "# User Vector"
   ]
  },
  {
   "cell_type": "code",
   "execution_count": 6,
   "metadata": {},
   "outputs": [
    {
     "name": "stderr",
     "output_type": "stream",
     "text": [
      "100%|██████████| 285297/285297 [00:12<00:00, 23347.20it/s]\n",
      "100%|██████████| 46332/46332 [00:01<00:00, 24419.89it/s]\n",
      "100%|██████████| 285297/285297 [00:06<00:00, 44574.34it/s]\n",
      "100%|██████████| 46332/46332 [00:00<00:00, 84550.56it/s]\n",
      "100%|██████████| 285297/285297 [00:00<00:00, 412481.18it/s]\n",
      "100%|██████████| 46332/46332 [00:00<00:00, 392938.51it/s]\n"
     ]
    }
   ],
   "source": [
    "one_hot_category = pd.get_dummies(news['Category']).astype(float).values\n",
    "one_hot_category_map = {news['News_id'][i]:one_hot_category[i] for i in range(len(news))}\n",
    "\n",
    "num_of_class = one_hot_category.shape[1]\n",
    "\n",
    "num_of_rows = behaviors.shape[0]\n",
    "num_of_rows_test = behaviors_test.shape[0]\n",
    "\n",
    "# User history sum\n",
    "user_clicked = np.empty((num_of_rows, num_of_class))\n",
    "click_news = behaviors['Clicked_News'].values\n",
    "for i in tqdm.tqdm(range(num_of_rows)):\n",
    "    for click in click_news[i].split():\n",
    "        user_clicked[i] += one_hot_category_map[click]\n",
    "\n",
    "user_clicked_test = np.empty((num_of_rows_test, num_of_class))\n",
    "click_news_test = behaviors_test['Clicked_News'].values\n",
    "for i in tqdm.tqdm(range(num_of_rows_test)):\n",
    "    for click in click_news_test[i].split():\n",
    "        user_clicked_test[i] += one_hot_category_map[click]\n",
    "\n",
    "## User impressions\n",
    "impression = np.empty((num_of_rows, 15, num_of_class))\n",
    "impression_clicked = []\n",
    "impressions = behaviors['Impressions'].values\n",
    "for i in tqdm.tqdm(range(num_of_rows)):\n",
    "    impression_i = impressions[i].split()\n",
    "    impression_label = []\n",
    "    for j in range(15):\n",
    "        impress_j = impression_i[j].split('-')\n",
    "        # impress_j = impression_i[j]\n",
    "        impress = impress_j[0]\n",
    "        impression[i, j] = one_hot_category_map[impress]\n",
    "\n",
    "        impression_label.append(int(impress_j[1]))\n",
    "    impression_clicked.append(impression_label)\n",
    "\n",
    "impression_test = np.empty((num_of_rows_test, 15, num_of_class))\n",
    "impressions = behaviors_test['Impressions'].values\n",
    "for i in tqdm.tqdm(range(num_of_rows_test)):\n",
    "    impression_i = impressions[i].split()\n",
    "    for j in range(15):\n",
    "        impress_j = impression_i[j]\n",
    "        impression_test[i, j] = one_hot_category_map[impress_j]\n",
    "\n",
    "user_vector = np.empty((num_of_rows, 15))\n",
    "for i in tqdm.tqdm(range(num_of_rows)):\n",
    "    user_vector[i] = impression[i] @ user_clicked[i]\n",
    "\n",
    "user_vector_test = np.empty((num_of_rows_test, 15))\n",
    "for i in tqdm.tqdm(range(num_of_rows_test)):\n",
    "    user_vector_test[i] = impression_test[i] @ user_clicked_test[i]"
   ]
  },
  {
   "cell_type": "code",
   "execution_count": null,
   "metadata": {},
   "outputs": [],
   "source": []
  },
  {
   "cell_type": "code",
   "execution_count": 7,
   "metadata": {},
   "outputs": [
    {
     "name": "stdout",
     "output_type": "stream",
     "text": [
      "torch.Size([285297, 15])\n",
      "torch.Size([285297, 15])\n",
      "torch.Size([46332, 15])\n"
     ]
    }
   ],
   "source": [
    "train_x = torch.FloatTensor(user_vector)\n",
    "print(train_x.shape)\n",
    "train_y = torch.FloatTensor(np.array(impression_clicked))\n",
    "print(train_y.shape)\n",
    "test_x = torch.FloatTensor(user_vector_test)\n",
    "print(test_x.shape)"
   ]
  },
  {
   "cell_type": "code",
   "execution_count": null,
   "metadata": {},
   "outputs": [],
   "source": []
  },
  {
   "cell_type": "code",
   "execution_count": null,
   "metadata": {},
   "outputs": [],
   "source": [
    "number_of_epoch = 200\n",
    "learning_rate = 0.0001\n",
    "batch_size = 128\n",
    "embedding_dimension = train_x.shape[1]\n",
    "hidden_dimension = 256\n",
    "latent_dimension = 256\n",
    "output_dimension = 15\n",
    "device = torch.device('cuda' if torch.cuda.is_available() else 'cpu')\n",
    "_, counts = train_y.reshape(-1).unique(return_counts=True)\n",
    "class_weights = (1 / (counts / counts.sum()))"
   ]
  },
  {
   "cell_type": "code",
   "execution_count": 60,
   "metadata": {},
   "outputs": [
    {
     "data": {
      "text/plain": [
       "tensor([1.1259, 8.9415])"
      ]
     },
     "execution_count": 60,
     "metadata": {},
     "output_type": "execute_result"
    }
   ],
   "source": [
    "class_weights"
   ]
  },
  {
   "cell_type": "code",
   "execution_count": 8,
   "metadata": {},
   "outputs": [],
   "source": [
    "number_of_epoch = 200\n",
    "learning_rate = 0.0001\n",
    "batch_size = 128\n",
    "hidden_dimension = 256\n",
    "latent_dimension = 256\n",
    "output_dimension = 15\n",
    "device = torch.device('cuda' if torch.cuda.is_available() else 'cpu')"
   ]
  },
  {
   "cell_type": "code",
   "execution_count": 10,
   "metadata": {},
   "outputs": [],
   "source": [
    "candidate_pairs = behaviors['Impressions'].str.split(expand=True)\n",
    "for col in candidate_pairs.columns:\n",
    "    candidate_pairs[['Article '+str(col), 'label '+str(col)]] = candidate_pairs[col].str.split(pat='-', expand=True)\n",
    "behaviors['Target_News'] = candidate_pairs[['Article '+str(i) for i in range(15)]].agg(' '.join, axis=1)\n",
    "behaviors['Target_News_Clicked'] = candidate_pairs[['label '+str(i) for i in range(15)]].agg(' '.join, axis=1)\n",
    "\n",
    "del candidate_pairs"
   ]
  },
  {
   "cell_type": "code",
   "execution_count": 40,
   "metadata": {},
   "outputs": [
    {
     "name": "stderr",
     "output_type": "stream",
     "text": [
      "100%|██████████| 285297/285297 [00:12<00:00, 22308.40it/s]"
     ]
    },
    {
     "name": "stdout",
     "output_type": "stream",
     "text": [
      "user mapped with news vector (input)\n"
     ]
    },
    {
     "name": "stderr",
     "output_type": "stream",
     "text": [
      "\n"
     ]
    }
   ],
   "source": [
    "news_embeddings = np.load('./data/news_embedding/news_embedding_vector.npy')\n",
    "user_embeddings = np.load('./data/user_embedding/user_embedding_vector.npy')\n",
    "\n",
    "news_id2index_map = {id: index for index, id in enumerate(news['News_id'].unique())}\n",
    "\n",
    "target_news = behaviors['Target_News']\n",
    "train_x = np.empty((len(target_news), latent_dimension))\n",
    "for i in tqdm.tqdm(range(len(target_news))):\n",
    "    vec_list = []\n",
    "    for j in target_news[i].split():\n",
    "        vec_list.append(news_embeddings[news_id2index_map[j]])\n",
    "    train_x[i] = np.dot(np.mean(vec_list, axis=0), user_embeddings[i])\n",
    "\n",
    "train_x_tensor = torch.FloatTensor(train_x)\n",
    "\n",
    "print('user mapped with news vector (input)')"
   ]
  },
  {
   "cell_type": "code",
   "execution_count": 71,
   "metadata": {},
   "outputs": [
    {
     "data": {
      "text/plain": [
       "array([1.27778578e-11, 1.27778578e-11, 1.27778578e-11, 1.27778578e-11,\n",
       "       1.27778578e-11, 1.27778578e-11, 1.27778578e-11, 1.27778578e-11,\n",
       "       1.27778578e-11, 1.27778578e-11, 1.27778578e-11, 1.27778578e-11,\n",
       "       1.27778578e-11, 1.27778578e-11, 1.27778578e-11, 1.27778578e-11,\n",
       "       1.27778578e-11, 1.27778578e-11, 1.27778578e-11, 1.27778578e-11,\n",
       "       1.27778578e-11, 1.27778578e-11, 1.27778578e-11, 1.27778578e-11,\n",
       "       1.27778578e-11, 1.27778578e-11, 1.27778578e-11, 1.27778578e-11,\n",
       "       1.27778578e-11, 1.27778578e-11, 1.27778578e-11, 1.27778578e-11,\n",
       "       1.27778578e-11, 1.27778578e-11, 1.27778578e-11, 1.27778578e-11,\n",
       "       1.27778578e-11, 1.27778578e-11, 1.27778578e-11, 1.27778578e-11,\n",
       "       1.27778578e-11, 1.27778578e-11, 1.27778578e-11, 1.27778578e-11,\n",
       "       1.27778578e-11, 1.27778578e-11, 1.27778578e-11, 1.27778578e-11,\n",
       "       1.27778578e-11, 1.27778578e-11, 1.27778578e-11, 1.27778578e-11,\n",
       "       1.27778578e-11, 1.27778578e-11, 1.27778578e-11, 1.27778578e-11,\n",
       "       1.27778578e-11, 1.27778578e-11, 1.27778578e-11, 1.27778578e-11,\n",
       "       1.27778578e-11, 1.27778578e-11, 1.27778578e-11, 1.27778578e-11,\n",
       "       1.27778578e-11, 1.27778578e-11, 1.27778578e-11, 1.27778578e-11,\n",
       "       1.27778578e-11, 1.27778578e-11, 1.27778578e-11, 1.27778578e-11,\n",
       "       1.27778578e-11, 1.27778578e-11, 1.27778578e-11, 1.27778578e-11,\n",
       "       1.27778578e-11, 1.27778578e-11, 1.27778578e-11, 1.27778578e-11,\n",
       "       1.27778578e-11, 1.27778578e-11, 1.27778578e-11, 1.27778578e-11,\n",
       "       1.27778578e-11, 1.27778578e-11, 1.27778578e-11, 1.27778578e-11,\n",
       "       1.27778578e-11, 1.27778578e-11, 1.27778578e-11, 1.27778578e-11,\n",
       "       1.27778578e-11, 1.27778578e-11, 1.27778578e-11, 1.27778578e-11,\n",
       "       1.27778578e-11, 1.27778578e-11, 1.27778578e-11, 1.27778578e-11,\n",
       "       1.27778578e-11, 1.27778578e-11, 1.27778578e-11, 1.27778578e-11,\n",
       "       1.27778578e-11, 1.27778578e-11, 1.27778578e-11, 1.27778578e-11,\n",
       "       1.27778578e-11, 1.27778578e-11, 1.27778578e-11, 1.27778578e-11,\n",
       "       1.27778578e-11, 1.27778578e-11, 1.27778578e-11, 1.27778578e-11,\n",
       "       1.27778578e-11, 1.27778578e-11, 1.27778578e-11, 1.27778578e-11,\n",
       "       1.27778578e-11, 1.27778578e-11, 1.27778578e-11, 1.27778578e-11,\n",
       "       1.27778578e-11, 1.27778578e-11, 1.27778578e-11, 1.27778578e-11,\n",
       "       1.27778578e-11, 1.27778578e-11, 1.27778578e-11, 1.27778578e-11,\n",
       "       1.27778578e-11, 1.27778578e-11, 1.27778578e-11, 1.27778578e-11,\n",
       "       1.27778578e-11, 1.27778578e-11, 1.27778578e-11, 1.27778578e-11,\n",
       "       1.27778578e-11, 1.27778578e-11, 1.27778578e-11, 1.27778578e-11,\n",
       "       1.27778578e-11, 1.27778578e-11, 1.27778578e-11, 1.27778578e-11,\n",
       "       1.27778578e-11, 1.27778578e-11, 1.27778578e-11, 1.27778578e-11,\n",
       "       1.27778578e-11, 1.27778578e-11, 1.27778578e-11, 1.27778578e-11,\n",
       "       1.27778578e-11, 1.27778578e-11, 1.27778578e-11, 1.27778578e-11,\n",
       "       1.27778578e-11, 1.27778578e-11, 1.27778578e-11, 1.27778578e-11,\n",
       "       1.27778578e-11, 1.27778578e-11, 1.27778578e-11, 1.27778578e-11,\n",
       "       1.27778578e-11, 1.27778578e-11, 1.27778578e-11, 1.27778578e-11,\n",
       "       1.27778578e-11, 1.27778578e-11, 1.27778578e-11, 1.27778578e-11,\n",
       "       1.27778578e-11, 1.27778578e-11, 1.27778578e-11, 1.27778578e-11,\n",
       "       1.27778578e-11, 1.27778578e-11, 1.27778578e-11, 1.27778578e-11,\n",
       "       1.27778578e-11, 1.27778578e-11, 1.27778578e-11, 1.27778578e-11,\n",
       "       1.27778578e-11, 1.27778578e-11, 1.27778578e-11, 1.27778578e-11,\n",
       "       1.27778578e-11, 1.27778578e-11, 1.27778578e-11, 1.27778578e-11,\n",
       "       1.27778578e-11, 1.27778578e-11, 1.27778578e-11, 1.27778578e-11,\n",
       "       1.27778578e-11, 1.27778578e-11, 1.27778578e-11, 1.27778578e-11,\n",
       "       1.27778578e-11, 1.27778578e-11, 1.27778578e-11, 1.27778578e-11,\n",
       "       1.27778578e-11, 1.27778578e-11, 1.27778578e-11, 1.27778578e-11,\n",
       "       1.27778578e-11, 1.27778578e-11, 1.27778578e-11, 1.27778578e-11,\n",
       "       1.27778578e-11, 1.27778578e-11, 1.27778578e-11, 1.27778578e-11,\n",
       "       1.27778578e-11, 1.27778578e-11, 1.27778578e-11, 1.27778578e-11,\n",
       "       1.27778578e-11, 1.27778578e-11, 1.27778578e-11, 1.27778578e-11,\n",
       "       1.27778578e-11, 1.27778578e-11, 1.27778578e-11, 1.27778578e-11,\n",
       "       1.27778578e-11, 1.27778578e-11, 1.27778578e-11, 1.27778578e-11,\n",
       "       1.27778578e-11, 1.27778578e-11, 1.27778578e-11, 1.27778578e-11,\n",
       "       1.27778578e-11, 1.27778578e-11, 1.27778578e-11, 1.27778578e-11,\n",
       "       1.27778578e-11, 1.27778578e-11, 1.27778578e-11, 1.27778578e-11,\n",
       "       1.27778578e-11, 1.27778578e-11, 1.27778578e-11, 1.27778578e-11,\n",
       "       1.27778578e-11, 1.27778578e-11, 1.27778578e-11, 1.27778578e-11])"
      ]
     },
     "execution_count": 71,
     "metadata": {},
     "output_type": "execute_result"
    }
   ],
   "source": [
    "train_x[1]"
   ]
  },
  {
   "cell_type": "code",
   "execution_count": 41,
   "metadata": {},
   "outputs": [
    {
     "name": "stderr",
     "output_type": "stream",
     "text": [
      "100%|██████████| 46332/46332 [00:01<00:00, 23552.33it/s]"
     ]
    },
    {
     "name": "stdout",
     "output_type": "stream",
     "text": [
      "user mapped with news vector (input)\n"
     ]
    },
    {
     "name": "stderr",
     "output_type": "stream",
     "text": [
      "\n"
     ]
    }
   ],
   "source": [
    "target_news = behaviors_test['Impressions']\n",
    "test_x = np.empty((len(target_news), latent_dimension))\n",
    "for i in tqdm.tqdm(range(len(target_news))):\n",
    "    vec_list = []\n",
    "    for j in target_news[i].split():\n",
    "        vec_list.append(news_embeddings[news_id2index_map[j]])\n",
    "    test_x[i] = np.dot(np.mean(vec_list, axis=0), user_embeddings[i])\n",
    "    \n",
    "test_x_tensor = torch.FloatTensor(test_x)\n",
    "\n",
    "print('user mapped with news vector (input)')"
   ]
  },
  {
   "cell_type": "code",
   "execution_count": 35,
   "metadata": {},
   "outputs": [
    {
     "data": {
      "text/plain": [
       "'0 0 0 0 0 0 0 0 1 0 0 1 0 1 0'"
      ]
     },
     "execution_count": 35,
     "metadata": {},
     "output_type": "execute_result"
    }
   ],
   "source": [
    "behaviors['Target_News_Clicked'][0]"
   ]
  },
  {
   "cell_type": "code",
   "execution_count": 61,
   "metadata": {},
   "outputs": [
    {
     "data": {
      "text/plain": [
       "array([0., 0., 0., 0., 0., 0., 0., 0., 1., 0., 0., 1., 0., 1., 0.])"
      ]
     },
     "execution_count": 61,
     "metadata": {},
     "output_type": "execute_result"
    }
   ],
   "source": [
    "target_news_clicked = behaviors['Target_News_Clicked']\n",
    "train_y = np.empty((len(target_news_clicked), output_dimension))\n",
    "\n",
    "for i in range(len(target_news_clicked)):\n",
    "    train_y[i] = [int(j) for j in target_news_clicked[i].split()]\n",
    "train_y[0]"
   ]
  },
  {
   "cell_type": "code",
   "execution_count": 68,
   "metadata": {},
   "outputs": [
    {
     "data": {
      "text/plain": [
       "array([1.12592052, 8.94151754])"
      ]
     },
     "execution_count": 68,
     "metadata": {},
     "output_type": "execute_result"
    }
   ],
   "source": [
    "_, counts = np.unique(train_y.reshape(-1), return_counts=True)\n",
    "class_weights = (1 / (counts / counts.sum()))\n",
    "class_weights"
   ]
  },
  {
   "cell_type": "code",
   "execution_count": 62,
   "metadata": {},
   "outputs": [
    {
     "data": {
      "text/plain": [
       "torch.Size([285297, 15])"
      ]
     },
     "execution_count": 62,
     "metadata": {},
     "output_type": "execute_result"
    }
   ],
   "source": [
    "train_y_tensor = torch.FloatTensor(train_y)\n",
    "train_y_tensor.shape"
   ]
  },
  {
   "attachments": {},
   "cell_type": "markdown",
   "metadata": {},
   "source": [
    "# Train"
   ]
  },
  {
   "cell_type": "code",
   "execution_count": 63,
   "metadata": {},
   "outputs": [],
   "source": [
    "train_dataset = CustomDataset(train_x_tensor, train_y_tensor)\n",
    "\n",
    "whole_train_loader = DataLoader(train_dataset, batch_size=batch_size, shuffle=True)\n",
    "\n",
    "generator = torch.Generator()\n",
    "data_list = random_split(train_dataset, [0.7, 0.3], generator)\n",
    "\n",
    "train_loader = DataLoader(data_list[0], batch_size=batch_size, shuffle=True)\n",
    "val_loader = DataLoader(data_list[1], batch_size=batch_size)\n",
    "\n",
    "test_dataset = CustomDataset(test_x_tensor)\n",
    "test_loader = DataLoader(test_dataset, batch_size=batch_size)"
   ]
  },
  {
   "cell_type": "code",
   "execution_count": 39,
   "metadata": {},
   "outputs": [],
   "source": [
    "class BCELoss_weight(Module):\n",
    "    def __init__(self, weight):\n",
    "        super().__init__()\n",
    "        self.weight = weight\n",
    "\n",
    "    def forward(self, target, predict):\n",
    "        predict = torch.clamp(predict, min=1e-6, max=1-1e-6)\n",
    "        bce = -self.weight[1]*target*torch.log(predict) - self.weight[0]*(1-target)*torch.log(1-predict)\n",
    "        return torch.mean(bce)"
   ]
  },
  {
   "cell_type": "code",
   "execution_count": 69,
   "metadata": {},
   "outputs": [
    {
     "name": "stderr",
     "output_type": "stream",
     "text": [
      " 10%|█         | 21/200 [03:37<30:53, 10.35s/it]\n"
     ]
    },
    {
     "ename": "KeyboardInterrupt",
     "evalue": "",
     "output_type": "error",
     "traceback": [
      "\u001b[1;31m---------------------------------------------------------------------------\u001b[0m",
      "\u001b[1;31mKeyboardInterrupt\u001b[0m                         Traceback (most recent call last)",
      "Cell \u001b[1;32mIn[69], line 74\u001b[0m\n\u001b[0;32m     72\u001b[0m predicts \u001b[39m=\u001b[39m np\u001b[39m.\u001b[39mwhere(predicts \u001b[39m>\u001b[39m\u001b[39m=\u001b[39m \u001b[39m0.5\u001b[39m, \u001b[39m1\u001b[39m, \u001b[39m0\u001b[39m)\n\u001b[0;32m     73\u001b[0m accuracy \u001b[39m=\u001b[39m accuracy_score(labels, predicts)\n\u001b[1;32m---> 74\u001b[0m f1 \u001b[39m=\u001b[39m f1_score(labels, predicts)\n\u001b[0;32m     75\u001b[0m writer\u001b[39m.\u001b[39madd_scalar(\u001b[39m'\u001b[39m\u001b[39mVal AUC\u001b[39m\u001b[39m'\u001b[39m, auc, epoch)\n\u001b[0;32m     76\u001b[0m writer\u001b[39m.\u001b[39madd_scalar(\u001b[39m'\u001b[39m\u001b[39mVal Accuracy\u001b[39m\u001b[39m'\u001b[39m, accuracy, epoch)\n",
      "File \u001b[1;32mc:\\Users\\ccis229c\\Anaconda3\\envs\\ml\\lib\\site-packages\\sklearn\\metrics\\_classification.py:1146\u001b[0m, in \u001b[0;36mf1_score\u001b[1;34m(y_true, y_pred, labels, pos_label, average, sample_weight, zero_division)\u001b[0m\n\u001b[0;32m   1011\u001b[0m \u001b[39mdef\u001b[39;00m \u001b[39mf1_score\u001b[39m(\n\u001b[0;32m   1012\u001b[0m     y_true,\n\u001b[0;32m   1013\u001b[0m     y_pred,\n\u001b[1;32m   (...)\u001b[0m\n\u001b[0;32m   1019\u001b[0m     zero_division\u001b[39m=\u001b[39m\u001b[39m\"\u001b[39m\u001b[39mwarn\u001b[39m\u001b[39m\"\u001b[39m,\n\u001b[0;32m   1020\u001b[0m ):\n\u001b[0;32m   1021\u001b[0m \u001b[39m    \u001b[39m\u001b[39m\"\"\"Compute the F1 score, also known as balanced F-score or F-measure.\u001b[39;00m\n\u001b[0;32m   1022\u001b[0m \n\u001b[0;32m   1023\u001b[0m \u001b[39m    The F1 score can be interpreted as a harmonic mean of the precision and\u001b[39;00m\n\u001b[1;32m   (...)\u001b[0m\n\u001b[0;32m   1144\u001b[0m \u001b[39m    array([0.66666667, 1.        , 0.66666667])\u001b[39;00m\n\u001b[0;32m   1145\u001b[0m \u001b[39m    \"\"\"\u001b[39;00m\n\u001b[1;32m-> 1146\u001b[0m     \u001b[39mreturn\u001b[39;00m fbeta_score(\n\u001b[0;32m   1147\u001b[0m         y_true,\n\u001b[0;32m   1148\u001b[0m         y_pred,\n\u001b[0;32m   1149\u001b[0m         beta\u001b[39m=\u001b[39;49m\u001b[39m1\u001b[39;49m,\n\u001b[0;32m   1150\u001b[0m         labels\u001b[39m=\u001b[39;49mlabels,\n\u001b[0;32m   1151\u001b[0m         pos_label\u001b[39m=\u001b[39;49mpos_label,\n\u001b[0;32m   1152\u001b[0m         average\u001b[39m=\u001b[39;49maverage,\n\u001b[0;32m   1153\u001b[0m         sample_weight\u001b[39m=\u001b[39;49msample_weight,\n\u001b[0;32m   1154\u001b[0m         zero_division\u001b[39m=\u001b[39;49mzero_division,\n\u001b[0;32m   1155\u001b[0m     )\n",
      "File \u001b[1;32mc:\\Users\\ccis229c\\Anaconda3\\envs\\ml\\lib\\site-packages\\sklearn\\metrics\\_classification.py:1287\u001b[0m, in \u001b[0;36mfbeta_score\u001b[1;34m(y_true, y_pred, beta, labels, pos_label, average, sample_weight, zero_division)\u001b[0m\n\u001b[0;32m   1158\u001b[0m \u001b[39mdef\u001b[39;00m \u001b[39mfbeta_score\u001b[39m(\n\u001b[0;32m   1159\u001b[0m     y_true,\n\u001b[0;32m   1160\u001b[0m     y_pred,\n\u001b[1;32m   (...)\u001b[0m\n\u001b[0;32m   1167\u001b[0m     zero_division\u001b[39m=\u001b[39m\u001b[39m\"\u001b[39m\u001b[39mwarn\u001b[39m\u001b[39m\"\u001b[39m,\n\u001b[0;32m   1168\u001b[0m ):\n\u001b[0;32m   1169\u001b[0m \u001b[39m    \u001b[39m\u001b[39m\"\"\"Compute the F-beta score.\u001b[39;00m\n\u001b[0;32m   1170\u001b[0m \n\u001b[0;32m   1171\u001b[0m \u001b[39m    The F-beta score is the weighted harmonic mean of precision and recall,\u001b[39;00m\n\u001b[1;32m   (...)\u001b[0m\n\u001b[0;32m   1284\u001b[0m \u001b[39m    array([0.71..., 0.        , 0.        ])\u001b[39;00m\n\u001b[0;32m   1285\u001b[0m \u001b[39m    \"\"\"\u001b[39;00m\n\u001b[1;32m-> 1287\u001b[0m     _, _, f, _ \u001b[39m=\u001b[39m precision_recall_fscore_support(\n\u001b[0;32m   1288\u001b[0m         y_true,\n\u001b[0;32m   1289\u001b[0m         y_pred,\n\u001b[0;32m   1290\u001b[0m         beta\u001b[39m=\u001b[39;49mbeta,\n\u001b[0;32m   1291\u001b[0m         labels\u001b[39m=\u001b[39;49mlabels,\n\u001b[0;32m   1292\u001b[0m         pos_label\u001b[39m=\u001b[39;49mpos_label,\n\u001b[0;32m   1293\u001b[0m         average\u001b[39m=\u001b[39;49maverage,\n\u001b[0;32m   1294\u001b[0m         warn_for\u001b[39m=\u001b[39;49m(\u001b[39m\"\u001b[39;49m\u001b[39mf-score\u001b[39;49m\u001b[39m\"\u001b[39;49m,),\n\u001b[0;32m   1295\u001b[0m         sample_weight\u001b[39m=\u001b[39;49msample_weight,\n\u001b[0;32m   1296\u001b[0m         zero_division\u001b[39m=\u001b[39;49mzero_division,\n\u001b[0;32m   1297\u001b[0m     )\n\u001b[0;32m   1298\u001b[0m     \u001b[39mreturn\u001b[39;00m f\n",
      "File \u001b[1;32mc:\\Users\\ccis229c\\Anaconda3\\envs\\ml\\lib\\site-packages\\sklearn\\metrics\\_classification.py:1577\u001b[0m, in \u001b[0;36mprecision_recall_fscore_support\u001b[1;34m(y_true, y_pred, beta, labels, pos_label, average, warn_for, sample_weight, zero_division)\u001b[0m\n\u001b[0;32m   1575\u001b[0m \u001b[39m# Calculate tp_sum, pred_sum, true_sum ###\u001b[39;00m\n\u001b[0;32m   1576\u001b[0m samplewise \u001b[39m=\u001b[39m average \u001b[39m==\u001b[39m \u001b[39m\"\u001b[39m\u001b[39msamples\u001b[39m\u001b[39m\"\u001b[39m\n\u001b[1;32m-> 1577\u001b[0m MCM \u001b[39m=\u001b[39m multilabel_confusion_matrix(\n\u001b[0;32m   1578\u001b[0m     y_true,\n\u001b[0;32m   1579\u001b[0m     y_pred,\n\u001b[0;32m   1580\u001b[0m     sample_weight\u001b[39m=\u001b[39;49msample_weight,\n\u001b[0;32m   1581\u001b[0m     labels\u001b[39m=\u001b[39;49mlabels,\n\u001b[0;32m   1582\u001b[0m     samplewise\u001b[39m=\u001b[39;49msamplewise,\n\u001b[0;32m   1583\u001b[0m )\n\u001b[0;32m   1584\u001b[0m tp_sum \u001b[39m=\u001b[39m MCM[:, \u001b[39m1\u001b[39m, \u001b[39m1\u001b[39m]\n\u001b[0;32m   1585\u001b[0m pred_sum \u001b[39m=\u001b[39m tp_sum \u001b[39m+\u001b[39m MCM[:, \u001b[39m0\u001b[39m, \u001b[39m1\u001b[39m]\n",
      "File \u001b[1;32mc:\\Users\\ccis229c\\Anaconda3\\envs\\ml\\lib\\site-packages\\sklearn\\metrics\\_classification.py:517\u001b[0m, in \u001b[0;36mmultilabel_confusion_matrix\u001b[1;34m(y_true, y_pred, sample_weight, labels, samplewise)\u001b[0m\n\u001b[0;32m    515\u001b[0m le\u001b[39m.\u001b[39mfit(labels)\n\u001b[0;32m    516\u001b[0m y_true \u001b[39m=\u001b[39m le\u001b[39m.\u001b[39mtransform(y_true)\n\u001b[1;32m--> 517\u001b[0m y_pred \u001b[39m=\u001b[39m le\u001b[39m.\u001b[39;49mtransform(y_pred)\n\u001b[0;32m    518\u001b[0m sorted_labels \u001b[39m=\u001b[39m le\u001b[39m.\u001b[39mclasses_\n\u001b[0;32m    520\u001b[0m \u001b[39m# labels are now from 0 to len(labels) - 1 -> use bincount\u001b[39;00m\n",
      "File \u001b[1;32mc:\\Users\\ccis229c\\Anaconda3\\envs\\ml\\lib\\site-packages\\sklearn\\utils\\_set_output.py:140\u001b[0m, in \u001b[0;36m_wrap_method_output.<locals>.wrapped\u001b[1;34m(self, X, *args, **kwargs)\u001b[0m\n\u001b[0;32m    138\u001b[0m \u001b[39m@wraps\u001b[39m(f)\n\u001b[0;32m    139\u001b[0m \u001b[39mdef\u001b[39;00m \u001b[39mwrapped\u001b[39m(\u001b[39mself\u001b[39m, X, \u001b[39m*\u001b[39margs, \u001b[39m*\u001b[39m\u001b[39m*\u001b[39mkwargs):\n\u001b[1;32m--> 140\u001b[0m     data_to_wrap \u001b[39m=\u001b[39m f(\u001b[39mself\u001b[39m, X, \u001b[39m*\u001b[39margs, \u001b[39m*\u001b[39m\u001b[39m*\u001b[39mkwargs)\n\u001b[0;32m    141\u001b[0m     \u001b[39mif\u001b[39;00m \u001b[39misinstance\u001b[39m(data_to_wrap, \u001b[39mtuple\u001b[39m):\n\u001b[0;32m    142\u001b[0m         \u001b[39m# only wrap the first output for cross decomposition\u001b[39;00m\n\u001b[0;32m    143\u001b[0m         \u001b[39mreturn\u001b[39;00m (\n\u001b[0;32m    144\u001b[0m             _wrap_data_with_container(method, data_to_wrap[\u001b[39m0\u001b[39m], X, \u001b[39mself\u001b[39m),\n\u001b[0;32m    145\u001b[0m             \u001b[39m*\u001b[39mdata_to_wrap[\u001b[39m1\u001b[39m:],\n\u001b[0;32m    146\u001b[0m         )\n",
      "File \u001b[1;32mc:\\Users\\ccis229c\\Anaconda3\\envs\\ml\\lib\\site-packages\\sklearn\\preprocessing\\_label.py:139\u001b[0m, in \u001b[0;36mLabelEncoder.transform\u001b[1;34m(self, y)\u001b[0m\n\u001b[0;32m    136\u001b[0m \u001b[39mif\u001b[39;00m _num_samples(y) \u001b[39m==\u001b[39m \u001b[39m0\u001b[39m:\n\u001b[0;32m    137\u001b[0m     \u001b[39mreturn\u001b[39;00m np\u001b[39m.\u001b[39marray([])\n\u001b[1;32m--> 139\u001b[0m \u001b[39mreturn\u001b[39;00m _encode(y, uniques\u001b[39m=\u001b[39;49m\u001b[39mself\u001b[39;49m\u001b[39m.\u001b[39;49mclasses_)\n",
      "File \u001b[1;32mc:\\Users\\ccis229c\\Anaconda3\\envs\\ml\\lib\\site-packages\\sklearn\\utils\\_encode.py:229\u001b[0m, in \u001b[0;36m_encode\u001b[1;34m(values, uniques, check_unknown)\u001b[0m\n\u001b[0;32m    227\u001b[0m \u001b[39melse\u001b[39;00m:\n\u001b[0;32m    228\u001b[0m     \u001b[39mif\u001b[39;00m check_unknown:\n\u001b[1;32m--> 229\u001b[0m         diff \u001b[39m=\u001b[39m _check_unknown(values, uniques)\n\u001b[0;32m    230\u001b[0m         \u001b[39mif\u001b[39;00m diff:\n\u001b[0;32m    231\u001b[0m             \u001b[39mraise\u001b[39;00m \u001b[39mValueError\u001b[39;00m(\u001b[39mf\u001b[39m\u001b[39m\"\u001b[39m\u001b[39my contains previously unseen labels: \u001b[39m\u001b[39m{\u001b[39;00m\u001b[39mstr\u001b[39m(diff)\u001b[39m}\u001b[39;00m\u001b[39m\"\u001b[39m)\n",
      "File \u001b[1;32mc:\\Users\\ccis229c\\Anaconda3\\envs\\ml\\lib\\site-packages\\sklearn\\utils\\_encode.py:294\u001b[0m, in \u001b[0;36m_check_unknown\u001b[1;34m(values, known_values, return_mask)\u001b[0m\n\u001b[0;32m    292\u001b[0m         diff\u001b[39m.\u001b[39mappend(np\u001b[39m.\u001b[39mnan)\n\u001b[0;32m    293\u001b[0m \u001b[39melse\u001b[39;00m:\n\u001b[1;32m--> 294\u001b[0m     unique_values \u001b[39m=\u001b[39m np\u001b[39m.\u001b[39;49munique(values)\n\u001b[0;32m    295\u001b[0m     diff \u001b[39m=\u001b[39m np\u001b[39m.\u001b[39msetdiff1d(unique_values, known_values, assume_unique\u001b[39m=\u001b[39m\u001b[39mTrue\u001b[39;00m)\n\u001b[0;32m    296\u001b[0m     \u001b[39mif\u001b[39;00m return_mask:\n",
      "File \u001b[1;32m<__array_function__ internals>:200\u001b[0m, in \u001b[0;36munique\u001b[1;34m(*args, **kwargs)\u001b[0m\n",
      "File \u001b[1;32mc:\\Users\\ccis229c\\Anaconda3\\envs\\ml\\lib\\site-packages\\numpy\\lib\\arraysetops.py:274\u001b[0m, in \u001b[0;36munique\u001b[1;34m(ar, return_index, return_inverse, return_counts, axis, equal_nan)\u001b[0m\n\u001b[0;32m    272\u001b[0m ar \u001b[39m=\u001b[39m np\u001b[39m.\u001b[39masanyarray(ar)\n\u001b[0;32m    273\u001b[0m \u001b[39mif\u001b[39;00m axis \u001b[39mis\u001b[39;00m \u001b[39mNone\u001b[39;00m:\n\u001b[1;32m--> 274\u001b[0m     ret \u001b[39m=\u001b[39m _unique1d(ar, return_index, return_inverse, return_counts, \n\u001b[0;32m    275\u001b[0m                     equal_nan\u001b[39m=\u001b[39;49mequal_nan)\n\u001b[0;32m    276\u001b[0m     \u001b[39mreturn\u001b[39;00m _unpack_tuple(ret)\n\u001b[0;32m    278\u001b[0m \u001b[39m# axis was specified and not None\u001b[39;00m\n",
      "File \u001b[1;32mc:\\Users\\ccis229c\\Anaconda3\\envs\\ml\\lib\\site-packages\\numpy\\lib\\arraysetops.py:336\u001b[0m, in \u001b[0;36m_unique1d\u001b[1;34m(ar, return_index, return_inverse, return_counts, equal_nan)\u001b[0m\n\u001b[0;32m    334\u001b[0m     aux \u001b[39m=\u001b[39m ar[perm]\n\u001b[0;32m    335\u001b[0m \u001b[39melse\u001b[39;00m:\n\u001b[1;32m--> 336\u001b[0m     ar\u001b[39m.\u001b[39;49msort()\n\u001b[0;32m    337\u001b[0m     aux \u001b[39m=\u001b[39m ar\n\u001b[0;32m    338\u001b[0m mask \u001b[39m=\u001b[39m np\u001b[39m.\u001b[39mempty(aux\u001b[39m.\u001b[39mshape, dtype\u001b[39m=\u001b[39mnp\u001b[39m.\u001b[39mbool_)\n",
      "\u001b[1;31mKeyboardInterrupt\u001b[0m: "
     ]
    }
   ],
   "source": [
    "if not os.path.exists('./runs/'):\n",
    "    os.makedirs('./runs/')\n",
    "\n",
    "if not os.path.exists('./model/'):\n",
    "    os.makedirs('./model/')\n",
    "\n",
    "writer = SummaryWriter(log_dir=f'./runs/user_click_{time.strftime(\"%Y%m%d-%H%M%S\")}')\n",
    "\n",
    "network = UserClickNetwork(input_dimension=latent_dimension,\n",
    "                            hidden_dimension=hidden_dimension,\n",
    "                            output_dimension=output_dimension).to(device)\n",
    "\n",
    "optimizer = torch.optim.Adam(network.parameters(), lr=learning_rate)\n",
    "criterion = BCELoss_weight(weight=class_weights)\n",
    "\n",
    "start_time = time.time()\n",
    "for epoch in tqdm.tqdm(range(number_of_epoch)):\n",
    "    network.to(device)\n",
    "    predicts = np.empty((len(train_x)*15,))\n",
    "    labels = np.empty((len(train_x)*15,))\n",
    "    pointer = 0\n",
    "    for i, (x, y) in enumerate(train_loader):\n",
    "        x = x.to(device)\n",
    "        y = y.to(device)\n",
    "        predict = network.forward(x)\n",
    "        predict = torch.flatten(predict)\n",
    "        y = torch.flatten(y)\n",
    "        loss = criterion(predict, y)\n",
    "\n",
    "        optimizer.zero_grad()\n",
    "        loss.backward()\n",
    "        optimizer.step()\n",
    "\n",
    "        with torch.no_grad():\n",
    "            predict = predict.cpu().numpy()\n",
    "            y = y.cpu().numpy()\n",
    "            mb_size = len(predict)\n",
    "            predicts[pointer:pointer+mb_size] = predict\n",
    "            labels[pointer:pointer+mb_size] = y\n",
    "            pointer += mb_size\n",
    "\n",
    "        del x, y, predict\n",
    "\n",
    "    writer.add_scalar('Loss', loss, epoch)\n",
    "\n",
    "    writer.add_scalar('Predict', predicts.sum(), epoch)\n",
    "\n",
    "    auc = roc_auc_score(labels, predicts)\n",
    "    predicts = np.where(predicts >= 0.1, 1, 0)\n",
    "    accuracy = accuracy_score(labels, predicts)\n",
    "    f1 = f1_score(labels, predicts)\n",
    "    writer.add_scalar('Train AUC', auc, epoch)\n",
    "    writer.add_scalar('Train Accuracy', accuracy, epoch)\n",
    "    writer.add_scalar('Train F1', f1, epoch)\n",
    "\n",
    "    network.to('cpu')\n",
    "    with torch.no_grad():\n",
    "        predicts = np.zeros((len(train_x)*15,))\n",
    "        labels = np.empty((len(train_x)*15,))\n",
    "        pointer = 0\n",
    "        for i, (x, y) in enumerate(val_loader):\n",
    "            predict = network.forward(x)\n",
    "            predict = torch.flatten(predict).numpy()\n",
    "            y = torch.flatten(y).numpy()\n",
    "            mb_size = len(predict)\n",
    "            predicts[pointer:pointer+mb_size] = predict\n",
    "            labels[pointer:pointer+mb_size] = y\n",
    "            pointer += mb_size\n",
    "\n",
    "            del x, y, predict\n",
    "    auc = roc_auc_score(labels, predicts)\n",
    "    predicts = np.where(predicts >= 0.5, 1, 0)\n",
    "    accuracy = accuracy_score(labels, predicts)\n",
    "    f1 = f1_score(labels, predicts)\n",
    "    writer.add_scalar('Val AUC', auc, epoch)\n",
    "    writer.add_scalar('Val Accuracy', accuracy, epoch)\n",
    "    writer.add_scalar('Val F1', f1, epoch)\n",
    "\n",
    "    if epoch % 10 == 0:\n",
    "        torch.save(network.state_dict(),\n",
    "                    f'./model/user_click_{epoch}_{auc:.2f}.pth')\n",
    "\n",
    "print(f'train time: {time.time() - start_time} seconds')\n",
    "writer.close()"
   ]
  },
  {
   "cell_type": "code",
   "execution_count": null,
   "metadata": {},
   "outputs": [],
   "source": [
    "torch.save(network.state_dict(), f'./model/100_{auc:.2f}.pth')"
   ]
  },
  {
   "cell_type": "code",
   "execution_count": null,
   "metadata": {},
   "outputs": [],
   "source": [
    "writer = SummaryWriter(log_dir=f'./runs/user_click_{time.strftime(\"%Y%m%d-%H%M%S\")}')\n",
    "\n",
    "network = UserClickNetwork(input_dimension=embedding_dimension,\n",
    "                            hidden_dimension=hidden_dimension,\n",
    "                            output_dimension=output_dimension).to(device)\n",
    "\n",
    "optimizer = torch.optim.Adam(network.parameters(), lr=learning_rate)\n",
    "criterion = BCELoss()\n",
    "\n",
    "start_time = time.time()\n",
    "for epoch in tqdm.tqdm(range(number_of_epoch)):\n",
    "    network.to(device)\n",
    "    predicts = np.empty((len(train_x)*15,))\n",
    "    labels = np.empty((len(train_x)*15,))\n",
    "    pointer = 0\n",
    "    for i, (x, y) in enumerate(train_loader):\n",
    "        x = x.to(device)\n",
    "        y = y.to(device)\n",
    "        predict = network.forward(x)\n",
    "        predict = torch.flatten(predict)\n",
    "        y = torch.flatten(y)\n",
    "        loss = criterion(predict, y)\n",
    "\n",
    "        writer.add_scalar('Loss', loss, epoch)\n",
    "\n",
    "        optimizer.zero_grad()\n",
    "        loss.backward()\n",
    "        optimizer.step()\n",
    "\n",
    "        with torch.no_grad():\n",
    "            predict = predict.cpu().numpy()\n",
    "            y = y.cpu().numpy()\n",
    "            mb_size = len(predict)\n",
    "            predicts[pointer:pointer+mb_size] = predict\n",
    "            labels[pointer:pointer+mb_size] = y\n",
    "            pointer += mb_size\n",
    "\n",
    "        del x, y, predict\n",
    "\n",
    "    writer.add_scalar('Loss', loss, epoch)\n",
    "    \n",
    "    auc = roc_auc_score(labels, predicts)\n",
    "\n",
    "    predicts = np.where(predicts >= 0.5, 1, 0)\n",
    "    accuracy = accuracy_score(labels, predicts)\n",
    "    f1 = f1_score(labels, predicts)\n",
    "    writer.add_scalar('Train AUC', auc, epoch)\n",
    "    writer.add_scalar('Train Accuracy', accuracy_score, epoch)\n",
    "    writer.add_scalar('Train F1', f1_score, epoch)\n",
    "\n",
    "    del predicts\n",
    "\n",
    "    if epoch % 10 == 0:\n",
    "        torch.save(network.state_dict(),\n",
    "                    f'./model/whole_{epoch}_{auc:.2f}.pth')\n",
    "\n",
    "print(f'train time: {time.time() - start_time} seconds')\n",
    "writer.close()\n",
    "\n",
    "torch.save(network.state_dict(), f'./model/whole_100_{auc:.2f}.pth')"
   ]
  },
  {
   "cell_type": "code",
   "execution_count": null,
   "metadata": {},
   "outputs": [],
   "source": [
    "network.load_state_dict(torch.load('./model/100_0.87.pth'))\n",
    "network.to('cpu')\n",
    "\n",
    "with torch.no_grad():\n",
    "    predicts = np.empty((len(test_x),15))\n",
    "    pointer = 0\n",
    "    for i, x in enumerate(test_loader):\n",
    "        predict = network.forward(x)\n",
    "        predict = predict.numpy()\n",
    "        mb_size = len(predict)\n",
    "        predicts[pointer:pointer+mb_size] = predict\n",
    "        pointer += mb_size\n",
    "\n",
    "        del x, predict"
   ]
  },
  {
   "cell_type": "code",
   "execution_count": null,
   "metadata": {},
   "outputs": [],
   "source": [
    "submit = pd.DataFrame(predicts, columns=[f'p{i}' for i in range(1, 16)])\n",
    "submit.index.name = 'index'\n",
    "submit.to_csv('./data/submit.csv')"
   ]
  }
 ],
 "metadata": {
  "kernelspec": {
   "display_name": "ml",
   "language": "python",
   "name": "python3"
  },
  "language_info": {
   "codemirror_mode": {
    "name": "ipython",
    "version": 3
   },
   "file_extension": ".py",
   "mimetype": "text/x-python",
   "name": "python",
   "nbconvert_exporter": "python",
   "pygments_lexer": "ipython3",
   "version": "3.10.11"
  },
  "orig_nbformat": 4
 },
 "nbformat": 4,
 "nbformat_minor": 2
}
