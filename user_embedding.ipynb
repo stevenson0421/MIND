{
 "cells": [
  {
   "cell_type": "code",
   "execution_count": 1,
   "metadata": {},
   "outputs": [],
   "source": [
    "from sklearn.preprocessing import LabelEncoder\n",
    "from sklearn.metrics import accuracy_score, f1_score, roc_auc_score\n",
    "\n",
    "import numpy as np\n",
    "import pandas as pd\n",
    "\n",
    "import torch\n",
    "from torch.nn import *\n",
    "from torch.utils.data import Dataset, DataLoader, SubsetRandomSampler, default_collate\n",
    "from torch.utils.tensorboard import SummaryWriter\n",
    "\n",
    "import time\n",
    "import os\n",
    "from tqdm import trange"
   ]
  },
  {
   "cell_type": "code",
   "execution_count": 2,
   "metadata": {},
   "outputs": [],
   "source": [
    "seed=24\n",
    "torch.manual_seed(seed)\n",
    "torch.cuda.manual_seed(seed)\n",
    "np.random.seed(seed)\n",
    "torch.backends.cudnn.deterministic=True"
   ]
  },
  {
   "cell_type": "code",
   "execution_count": 3,
   "metadata": {},
   "outputs": [],
   "source": [
    "class UserDataset(Dataset):\n",
    "    def __init__(self, x, y):\n",
    "        super().__init__()\n",
    "\n",
    "        self.x = x\n",
    "        self.y = y\n",
    "\n",
    "    def __len__(self):\n",
    "        return len(self.x)\n",
    "    \n",
    "    def __getitem__(self, index):\n",
    "        return self.x[index], self.y[index]"
   ]
  },
  {
   "cell_type": "code",
   "execution_count": 4,
   "metadata": {},
   "outputs": [],
   "source": [
    "class UserEmbeddingNetwork(Module):\n",
    "    def __init__(self, input_dimension, hidden_dimension, latent_dimension, id_dimension):\n",
    "        super().__init__()\n",
    "\n",
    "        def init_parameters(layer, scale=1):\n",
    "            torch.nn.init.xavier_normal_(layer.weight, gain=scale)\n",
    "            torch.nn.init.zeros_(layer.bias)\n",
    "\n",
    "        self.fc1 = Linear(in_features=input_dimension, out_features=hidden_dimension)\n",
    "        init_parameters(self.fc1)\n",
    "        self.fc2 = Linear(in_features=hidden_dimension, out_features=hidden_dimension)\n",
    "        init_parameters(self.fc2)\n",
    "        self.fc3 = Linear(in_features=hidden_dimension, out_features=latent_dimension)\n",
    "        init_parameters(self.fc3)\n",
    "        self.fc4 = Linear(in_features=latent_dimension, out_features=id_dimension)\n",
    "        init_parameters(self.fc4)\n",
    "\n",
    "        self.relu = ReLU()\n",
    "        self.softmax = Softmax(dim=-1)\n",
    "\n",
    "    def forward(self, input_vector):\n",
    "        latent = self.relu(self.fc1(input_vector))\n",
    "        latent = self.relu(self.fc2(latent))\n",
    "        latent = self.softmax(self.fc3(latent))\n",
    "        id = self.softmax(self.fc4(latent))\n",
    "\n",
    "        return latent, id"
   ]
  },
  {
   "cell_type": "code",
   "execution_count": 5,
   "metadata": {},
   "outputs": [
    {
     "name": "stdout",
     "output_type": "stream",
     "text": [
      "data loaded\n"
     ]
    }
   ],
   "source": [
    "# load news data\n",
    "column_names = ['News_id', 'Category', 'Subcategory', 'Title', 'Abstract', 'URL', 'Title_Entities', 'Abstract_Entities']\n",
    "news = pd.read_csv('./data/train_news.tsv', sep='\\t', names=column_names)\n",
    "news2 = pd.read_csv('./data/test_news.tsv', sep='\\t', names=column_names)\n",
    "news = pd.concat([news, news2], axis=0)\n",
    "column_names = ['Impression_id', 'User', 'Time', 'Clicked_News', 'Impressions']\n",
    "behaviors = pd.read_csv('./data/train_behaviors.tsv', sep='\\t', names=column_names)\n",
    "behaviors2 = pd.read_csv('./data/test_behaviors.tsv', sep='\\t', names=column_names)\n",
    "\n",
    "print('data loaded')"
   ]
  },
  {
   "cell_type": "code",
   "execution_count": 6,
   "metadata": {},
   "outputs": [],
   "source": [
    "number_of_epoch = 80\n",
    "learning_rate = 0.005\n",
    "batch_size = 64\n",
    "embedding_dimension = 256\n",
    "hidden_dimension = 256\n",
    "latent_dimension = 128\n",
    "output_dimension = len(behaviors['User'].unique())\n",
    "device = torch.device('cuda' if torch.cuda.is_available() else 'cpu')"
   ]
  },
  {
   "cell_type": "code",
   "execution_count": 7,
   "metadata": {},
   "outputs": [
    {
     "name": "stdout",
     "output_type": "stream",
     "text": [
      "user mapped with news vector (input)\n"
     ]
    }
   ],
   "source": [
    "news_id2index_map = {id: index for index, id in enumerate(news['News_id'].unique())}\n",
    "\n",
    "news_embedding = np.load('./data/news_embedding/news_embedding_vector.npy')\n",
    "\n",
    "user_vector = np.empty((behaviors.shape[0], embedding_dimension), dtype=np.float32)\n",
    "pointer = 0\n",
    "for i in behaviors['Clicked_News']:\n",
    "    vec_list = []\n",
    "    for j in i.split():\n",
    "        index = news_id2index_map[j]\n",
    "        vec_list.append(news_embedding[index])\n",
    "\n",
    "    user_vector[pointer] = np.mean(vec_list, axis=0)\n",
    "    pointer += 1\n",
    "\n",
    "user_vector_tensor = torch.FloatTensor(user_vector)\n",
    "\n",
    "print('user mapped with news vector (input)')"
   ]
  },
  {
   "cell_type": "code",
   "execution_count": 8,
   "metadata": {},
   "outputs": [
    {
     "data": {
      "text/plain": [
       "torch.Size([285297, 256])"
      ]
     },
     "execution_count": 8,
     "metadata": {},
     "output_type": "execute_result"
    }
   ],
   "source": [
    "user_vector_tensor.shape"
   ]
  },
  {
   "cell_type": "code",
   "execution_count": 9,
   "metadata": {},
   "outputs": [
    {
     "name": "stdout",
     "output_type": "stream",
     "text": [
      "user id (target) encoded\n"
     ]
    }
   ],
   "source": [
    "user_id = LabelEncoder().fit_transform(behaviors['User'].values)\n",
    "user_id_tensor = torch.LongTensor(user_id)\n",
    "\n",
    "print('user id (target) encoded')"
   ]
  },
  {
   "cell_type": "code",
   "execution_count": 10,
   "metadata": {},
   "outputs": [],
   "source": [
    "user_dataset = UserDataset(user_vector_tensor, user_id_tensor)\n",
    "\n",
    "train_loader = DataLoader(user_dataset, batch_size=batch_size, shuffle=True)"
   ]
  },
  {
   "cell_type": "code",
   "execution_count": 11,
   "metadata": {},
   "outputs": [],
   "source": [
    "del news, news2, behaviors, behaviors2"
   ]
  },
  {
   "cell_type": "code",
   "execution_count": 15,
   "metadata": {},
   "outputs": [
    {
     "name": "stderr",
     "output_type": "stream",
     "text": [
      "  0%|          | 0/80 [00:00<?, ?it/s]"
     ]
    }
   ],
   "source": [
    "writer = SummaryWriter(log_dir=f'./runs/user_embedding_{time.strftime(\"%Y%m%d-%H%M%S\")}')\n",
    "\n",
    "network = UserEmbeddingNetwork(input_dimension=embedding_dimension,\n",
    "                               hidden_dimension=hidden_dimension,\n",
    "                               latent_dimension=latent_dimension,\n",
    "                               id_dimension=output_dimension).to(device)\n",
    "\n",
    "optimizer = torch.optim.Adam(network.parameters(), lr=learning_rate)\n",
    "criterion = CrossEntropyLoss()\n",
    "\n",
    "start_time = time.time()\n",
    "for epoch in trange(number_of_epoch):\n",
    "    network.to(device)\n",
    "    for i, (x, y) in enumerate(train_loader):\n",
    "        x = x.to(device)\n",
    "        y = y.to(device)\n",
    "        latent, id = network.forward(x)\n",
    "        loss = criterion(id, y)\n",
    "\n",
    "        optimizer.zero_grad()\n",
    "        loss.backward()\n",
    "        optimizer.step()\n",
    "\n",
    "    writer.add_scalar('Loss', loss, epoch)\n",
    "\n",
    "    with torch.no_grad():\n",
    "        _, id = network.forward(x)\n",
    "        id = id.cpu().numpy()\n",
    "        predict = np.argmax(id, axis=1)\n",
    "        label = y.cpu().numpy()\n",
    "        accuracy = accuracy_score(label, predict)\n",
    "        f1 = f1_score(label, predict, average='weighted')\n",
    "        auc = roc_auc_score(label, id, multi_class='ovr')\n",
    "\n",
    "    del x, y\n",
    "    writer.add_scalar('Accuracy', accuracy, epoch)\n",
    "    writer.add_scalar('F1', f1, epoch)\n",
    "    writer.add_scalar('AUC', auc, epoch)\n",
    "\n",
    "print(f'user embedding train time: {time.time() - start_time} seconds')\n",
    "writer.close()"
   ]
  },
  {
   "cell_type": "code",
   "execution_count": null,
   "metadata": {},
   "outputs": [],
   "source": [
    "network.to('cpu')\n",
    "with torch.no_grad():\n",
    "    _, id = network.forward(user_vector_tensor)\n",
    "    id = id.cpu().numpy()\n",
    "    predict = np.argmax(id, axis=1)\n",
    "    print(predict[:15])"
   ]
  },
  {
   "cell_type": "code",
   "execution_count": null,
   "metadata": {},
   "outputs": [],
   "source": [
    "if not os.path.exists('./model/'):\n",
    "    os.makedirs('./model/')\n",
    "torch.save(network.state_dict(), \n",
    "           f'./model/user_embedding_{time.strftime(\"%Y%m%d-%H%M%S\")}_{auc:.2f}.pth')"
   ]
  },
  {
   "cell_type": "code",
   "execution_count": null,
   "metadata": {},
   "outputs": [],
   "source": [
    "latent, _ = network.forward(user_vector_tensor.to(device))\n",
    "latent = latent.detach().cpu().numpy()\n",
    "\n",
    "if not os.path.exists('./data/user_embedding/'):\n",
    "    os.makedirs('./data/user_embedding/')\n",
    "np.save('./data/user_embedding/user_vector.npy', user_vector)\n",
    "np.save('./data/user_embedding/user_embedding_vector.npy', latent)"
   ]
  }
 ],
 "metadata": {
  "kernelspec": {
   "display_name": "ml",
   "language": "python",
   "name": "python3"
  },
  "language_info": {
   "codemirror_mode": {
    "name": "ipython",
    "version": 3
   },
   "file_extension": ".py",
   "mimetype": "text/x-python",
   "name": "python",
   "nbconvert_exporter": "python",
   "pygments_lexer": "ipython3",
   "version": "3.10.11"
  },
  "orig_nbformat": 4
 },
 "nbformat": 4,
 "nbformat_minor": 2
}
