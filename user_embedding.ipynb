{
 "cells": [
  {
   "cell_type": "code",
   "execution_count": 1,
   "metadata": {},
   "outputs": [],
   "source": [
    "from sklearn.preprocessing import LabelEncoder\n",
    "from sklearn.metrics import accuracy_score, f1_score, roc_auc_score\n",
    "\n",
    "import numpy as np\n",
    "import pandas as pd\n",
    "\n",
    "import torch\n",
    "from torch.nn import *\n",
    "from torch.utils.data import Dataset, DataLoader, SubsetRandomSampler, default_collate\n",
    "from torch.utils.tensorboard import SummaryWriter\n",
    "\n",
    "import time\n",
    "import os\n",
    "from tqdm import trange"
   ]
  },
  {
   "cell_type": "code",
   "execution_count": 2,
   "metadata": {},
   "outputs": [],
   "source": [
    "seed=24\n",
    "torch.manual_seed(seed)\n",
    "torch.cuda.manual_seed(seed)\n",
    "np.random.seed(seed)\n",
    "torch.backends.cudnn.deterministic=True"
   ]
  },
  {
   "cell_type": "code",
   "execution_count": 3,
   "metadata": {},
   "outputs": [],
   "source": [
    "class UserDataset(Dataset):\n",
    "    def __init__(self, x, y):\n",
    "        super().__init__()\n",
    "\n",
    "        self.x = x\n",
    "        self.y = y\n",
    "\n",
    "    def __len__(self):\n",
    "        return len(self.x)\n",
    "    \n",
    "    def __getitem__(self, index):\n",
    "        return self.x[index], self.y[index]"
   ]
  },
  {
   "cell_type": "code",
   "execution_count": 4,
   "metadata": {},
   "outputs": [],
   "source": [
    "class UserEmbeddingNetwork(Module):\n",
    "    def __init__(self, input_dimension, hidden_dimension, latent_dimension, id_dimension):\n",
    "        super().__init__()\n",
    "\n",
    "        def init_parameters(layer, scale=1):\n",
    "            torch.nn.init.xavier_normal_(layer.weight, gain=scale)\n",
    "            torch.nn.init.zeros_(layer.bias)\n",
    "\n",
    "        self.fc1 = Linear(in_features=input_dimension, out_features=hidden_dimension)\n",
    "        init_parameters(self.fc1)\n",
    "        self.fc2 = Linear(in_features=hidden_dimension, out_features=hidden_dimension)\n",
    "        init_parameters(self.fc2)\n",
    "        self.fc3 = Linear(in_features=hidden_dimension, out_features=latent_dimension)\n",
    "        init_parameters(self.fc3)\n",
    "        self.fc4 = Linear(in_features=latent_dimension, out_features=id_dimension)\n",
    "        init_parameters(self.fc4)\n",
    "\n",
    "        self.relu = ReLU()\n",
    "        self.softmax = Softmax(dim=-1)\n",
    "\n",
    "    def forward(self, input_vector):\n",
    "        latent = self.relu(self.fc1(input_vector))\n",
    "        latent = self.relu(self.fc2(latent))\n",
    "        latent = self.softmax(self.fc3(latent))\n",
    "        id = self.softmax(self.fc4(latent))\n",
    "\n",
    "        return latent, id"
   ]
  },
  {
   "cell_type": "code",
   "execution_count": 5,
   "metadata": {},
   "outputs": [
    {
     "name": "stdout",
     "output_type": "stream",
     "text": [
      "data loaded\n"
     ]
    }
   ],
   "source": [
    "# load news data\n",
    "column_names = ['News_id', 'Category', 'Subcategory', 'Title', 'Abstract', 'URL', 'Title_Entities', 'Abstract_Entities']\n",
    "news = pd.read_csv('./data/train_news.tsv', sep='\\t', names=column_names)\n",
    "news2 = pd.read_csv('./data/test_news.tsv', sep='\\t', names=column_names)\n",
    "news = pd.concat([news, news2], axis=0)\n",
    "column_names = ['Impression_id', 'User', 'Time', 'Clicked_News', 'Impressions']\n",
    "behaviors = pd.read_csv('./data/train_behaviors.tsv', sep='\\t', names=column_names)\n",
    "behaviors2 = pd.read_csv('./data/test_behaviors.tsv', sep='\\t', names=column_names)\n",
    "\n",
    "print('data loaded')"
   ]
  },
  {
   "cell_type": "code",
   "execution_count": 6,
   "metadata": {},
   "outputs": [],
   "source": [
    "number_of_epoch = 80\n",
    "learning_rate = 0.005\n",
    "batch_size = 256\n",
    "embedding_dimension = 256\n",
    "hidden_dimension = 256\n",
    "latent_dimension = 256\n",
    "output_dimension = len(behaviors['User'].unique())\n",
    "device = torch.device('cuda' if torch.cuda.is_available() else 'cpu')"
   ]
  },
  {
   "cell_type": "code",
   "execution_count": 7,
   "metadata": {},
   "outputs": [
    {
     "name": "stdout",
     "output_type": "stream",
     "text": [
      "user mapped with news vector (input)\n"
     ]
    }
   ],
   "source": [
    "news_id2index_map = {id: index for index, id in enumerate(news['News_id'].unique())}\n",
    "\n",
    "news_embedding = np.load('./data/news_embedding/news_embedding_vector.npy')\n",
    "\n",
    "user_vector = np.empty((behaviors.shape[0], embedding_dimension), dtype=np.float32)\n",
    "pointer = 0\n",
    "for i in behaviors['Clicked_News']:\n",
    "    vec_list = []\n",
    "    for j in i.split():\n",
    "        index = news_id2index_map[j]\n",
    "        vec_list.append(news_embedding[index])\n",
    "\n",
    "    user_vector[pointer] = np.mean(vec_list, axis=0)\n",
    "    pointer += 1\n",
    "\n",
    "user_vector_tensor = torch.FloatTensor(user_vector)\n",
    "\n",
    "print('user mapped with news vector (input)')"
   ]
  },
  {
   "cell_type": "code",
   "execution_count": 8,
   "metadata": {},
   "outputs": [
    {
     "name": "stdout",
     "output_type": "stream",
     "text": [
      "user id (target) encoded\n"
     ]
    }
   ],
   "source": [
    "user_id = LabelEncoder().fit_transform(behaviors['User'].values)\n",
    "user_id_tensor = torch.LongTensor(user_id)\n",
    "\n",
    "print('user id (target) encoded')"
   ]
  },
  {
   "cell_type": "code",
   "execution_count": 9,
   "metadata": {},
   "outputs": [],
   "source": [
    "user_dataset = UserDataset(user_vector_tensor, user_id_tensor)\n",
    "\n",
    "\n",
    "# device = torch.device('cuda' if torch.cuda.is_available() else 'cpu')\n",
    "train_loader = DataLoader(user_dataset, batch_size=batch_size, shuffle=True)"
   ]
  },
  {
   "cell_type": "code",
   "execution_count": 10,
   "metadata": {},
   "outputs": [],
   "source": [
    "del news, news2, behaviors, behaviors2"
   ]
  },
  {
   "cell_type": "code",
   "execution_count": 11,
   "metadata": {},
   "outputs": [
    {
     "ename": "OutOfMemoryError",
     "evalue": "CUDA out of memory. Tried to allocate 226.65 GiB (GPU 0; 6.00 GiB total capacity; 1.47 GiB already allocated; 2.79 GiB free; 1.60 GiB reserved in total by PyTorch) If reserved memory is >> allocated memory try setting max_split_size_mb to avoid fragmentation.  See documentation for Memory Management and PYTORCH_CUDA_ALLOC_CONF",
     "output_type": "error",
     "traceback": [
      "\u001b[1;31m---------------------------------------------------------------------------\u001b[0m",
      "\u001b[1;31mOutOfMemoryError\u001b[0m                          Traceback (most recent call last)",
      "Cell \u001b[1;32mIn[11], line 24\u001b[0m\n\u001b[0;32m     21\u001b[0m writer\u001b[39m.\u001b[39madd_scalar(\u001b[39m'\u001b[39m\u001b[39mLoss\u001b[39m\u001b[39m'\u001b[39m, loss, epoch)\n\u001b[0;32m     23\u001b[0m \u001b[39mwith\u001b[39;00m torch\u001b[39m.\u001b[39mno_grad():\n\u001b[1;32m---> 24\u001b[0m     _, \u001b[39mid\u001b[39m \u001b[39m=\u001b[39m network\u001b[39m.\u001b[39;49mforward(user_vector_tensor\u001b[39m.\u001b[39;49mto(device))\n\u001b[0;32m     25\u001b[0m     \u001b[39mid\u001b[39m \u001b[39m=\u001b[39m \u001b[39mid\u001b[39m\u001b[39m.\u001b[39mcpu()\u001b[39m.\u001b[39mnumpy()\n\u001b[0;32m     26\u001b[0m     predict \u001b[39m=\u001b[39m np\u001b[39m.\u001b[39margmax(\u001b[39mid\u001b[39m, axis\u001b[39m=\u001b[39m\u001b[39m1\u001b[39m)\n",
      "Cell \u001b[1;32mIn[4], line 25\u001b[0m, in \u001b[0;36mUserEmbeddingNetwork.forward\u001b[1;34m(self, input_vector)\u001b[0m\n\u001b[0;32m     23\u001b[0m latent \u001b[39m=\u001b[39m \u001b[39mself\u001b[39m\u001b[39m.\u001b[39mrelu(\u001b[39mself\u001b[39m\u001b[39m.\u001b[39mfc2(latent))\n\u001b[0;32m     24\u001b[0m latent \u001b[39m=\u001b[39m \u001b[39mself\u001b[39m\u001b[39m.\u001b[39msoftmax(\u001b[39mself\u001b[39m\u001b[39m.\u001b[39mfc3(latent))\n\u001b[1;32m---> 25\u001b[0m \u001b[39mid\u001b[39m \u001b[39m=\u001b[39m \u001b[39mself\u001b[39m\u001b[39m.\u001b[39msoftmax(\u001b[39mself\u001b[39;49m\u001b[39m.\u001b[39;49mfc4(latent))\n\u001b[0;32m     27\u001b[0m \u001b[39mreturn\u001b[39;00m latent, \u001b[39mid\u001b[39m\n",
      "File \u001b[1;32mc:\\Users\\ccis229c\\Anaconda3\\envs\\ml\\lib\\site-packages\\torch\\nn\\modules\\module.py:1501\u001b[0m, in \u001b[0;36mModule._call_impl\u001b[1;34m(self, *args, **kwargs)\u001b[0m\n\u001b[0;32m   1496\u001b[0m \u001b[39m# If we don't have any hooks, we want to skip the rest of the logic in\u001b[39;00m\n\u001b[0;32m   1497\u001b[0m \u001b[39m# this function, and just call forward.\u001b[39;00m\n\u001b[0;32m   1498\u001b[0m \u001b[39mif\u001b[39;00m \u001b[39mnot\u001b[39;00m (\u001b[39mself\u001b[39m\u001b[39m.\u001b[39m_backward_hooks \u001b[39mor\u001b[39;00m \u001b[39mself\u001b[39m\u001b[39m.\u001b[39m_backward_pre_hooks \u001b[39mor\u001b[39;00m \u001b[39mself\u001b[39m\u001b[39m.\u001b[39m_forward_hooks \u001b[39mor\u001b[39;00m \u001b[39mself\u001b[39m\u001b[39m.\u001b[39m_forward_pre_hooks\n\u001b[0;32m   1499\u001b[0m         \u001b[39mor\u001b[39;00m _global_backward_pre_hooks \u001b[39mor\u001b[39;00m _global_backward_hooks\n\u001b[0;32m   1500\u001b[0m         \u001b[39mor\u001b[39;00m _global_forward_hooks \u001b[39mor\u001b[39;00m _global_forward_pre_hooks):\n\u001b[1;32m-> 1501\u001b[0m     \u001b[39mreturn\u001b[39;00m forward_call(\u001b[39m*\u001b[39margs, \u001b[39m*\u001b[39m\u001b[39m*\u001b[39mkwargs)\n\u001b[0;32m   1502\u001b[0m \u001b[39m# Do not call functions when jit is used\u001b[39;00m\n\u001b[0;32m   1503\u001b[0m full_backward_hooks, non_full_backward_hooks \u001b[39m=\u001b[39m [], []\n",
      "File \u001b[1;32mc:\\Users\\ccis229c\\Anaconda3\\envs\\ml\\lib\\site-packages\\torch\\nn\\modules\\linear.py:114\u001b[0m, in \u001b[0;36mLinear.forward\u001b[1;34m(self, input)\u001b[0m\n\u001b[0;32m    113\u001b[0m \u001b[39mdef\u001b[39;00m \u001b[39mforward\u001b[39m(\u001b[39mself\u001b[39m, \u001b[39minput\u001b[39m: Tensor) \u001b[39m-\u001b[39m\u001b[39m>\u001b[39m Tensor:\n\u001b[1;32m--> 114\u001b[0m     \u001b[39mreturn\u001b[39;00m F\u001b[39m.\u001b[39;49mlinear(\u001b[39minput\u001b[39;49m, \u001b[39mself\u001b[39;49m\u001b[39m.\u001b[39;49mweight, \u001b[39mself\u001b[39;49m\u001b[39m.\u001b[39;49mbias)\n",
      "\u001b[1;31mOutOfMemoryError\u001b[0m: CUDA out of memory. Tried to allocate 226.65 GiB (GPU 0; 6.00 GiB total capacity; 1.47 GiB already allocated; 2.79 GiB free; 1.60 GiB reserved in total by PyTorch) If reserved memory is >> allocated memory try setting max_split_size_mb to avoid fragmentation.  See documentation for Memory Management and PYTORCH_CUDA_ALLOC_CONF"
     ]
    }
   ],
   "source": [
    "writer = SummaryWriter(log_dir=f'./runs/user_embedding_{time.strftime(\"%Y%m%d-%H%M%S\")}')\n",
    "\n",
    "network = UserEmbeddingNetwork(input_dimension=embedding_dimension,\n",
    "                               hidden_dimension=hidden_dimension,\n",
    "                               latent_dimension=latent_dimension,\n",
    "                               id_dimension=output_dimension)\n",
    "\n",
    "optimizer = torch.optim.Adam(network.parameters(), lr=learning_rate)\n",
    "criterion = CrossEntropyLoss()\n",
    "\n",
    "start_time = time.time()\n",
    "for epoch in range(number_of_epoch):\n",
    "    for i, (x, y) in enumerate(train_loader):\n",
    "        latent, id = network.forward(x)\n",
    "        loss = criterion(id, y)\n",
    "\n",
    "        optimizer.zero_grad()\n",
    "        loss.backward()\n",
    "        optimizer.step()\n",
    "\n",
    "    writer.add_scalar('Loss', loss, epoch)\n",
    "\n",
    "    with torch.no_grad():\n",
    "        _, id = network.forward(user_vector_tensor)\n",
    "        id = id.cpu().numpy()\n",
    "        predict = np.argmax(id, axis=1)\n",
    "        label = user_id\n",
    "        accuracy = accuracy_score(label, predict)\n",
    "        f1 = f1_score(label, predict, average='weighted')\n",
    "        auc = roc_auc_score(label, id, multi_class='ovr')\n",
    "\n",
    "\n",
    "    writer.add_scalar('Accuracy', accuracy, epoch)\n",
    "    writer.add_scalar('F1', f1, epoch)\n",
    "    writer.add_scalar('AUC', auc, epoch)\n",
    "\n",
    "print(f'user embedding train time: {time.time() - start_time} seconds')\n",
    "writer.close()"
   ]
  },
  {
   "cell_type": "code",
   "execution_count": null,
   "metadata": {},
   "outputs": [],
   "source": [
    "with torch.no_grad():\n",
    "    _, id = network.forward(user_vector_tensor.to(device))\n",
    "    id = id.cpu().numpy()\n",
    "    predict = np.argmax(id, axis=1)\n",
    "    label = user_id\n",
    "    accuracy = accuracy_score(label, predict)\n",
    "    f1 = f1_score(label, predict, average='weighted')\n",
    "    auc = roc_auc_score(label, id, multi_class='ovr')"
   ]
  },
  {
   "cell_type": "code",
   "execution_count": null,
   "metadata": {},
   "outputs": [],
   "source": [
    "if not os.path.exists('./model/'):\n",
    "    os.makedirs('./model/')\n",
    "torch.save(network.state_dict(), \n",
    "           f'./model/user_embedding_{time.strftime(\"%Y%m%d-%H%M%S\")}_{auc:.2f}.pth')"
   ]
  },
  {
   "cell_type": "code",
   "execution_count": null,
   "metadata": {},
   "outputs": [],
   "source": [
    "latent, _ = network.forward(user_vector_tensor.to(device))\n",
    "latent = latent.detach().cpu().numpy()\n",
    "\n",
    "if not os.path.exists('./data/user_embedding/'):\n",
    "    os.makedirs('./data/user_embedding/')\n",
    "np.save('./data/user_embedding/user_vector.npy', user_vector)\n",
    "np.save('./data/user_embedding/user_embedding_vector.npy', latent)"
   ]
  }
 ],
 "metadata": {
  "kernelspec": {
   "display_name": "ml",
   "language": "python",
   "name": "python3"
  },
  "language_info": {
   "codemirror_mode": {
    "name": "ipython",
    "version": 3
   },
   "file_extension": ".py",
   "mimetype": "text/x-python",
   "name": "python",
   "nbconvert_exporter": "python",
   "pygments_lexer": "ipython3",
   "version": "3.10.11"
  },
  "orig_nbformat": 4
 },
 "nbformat": 4,
 "nbformat_minor": 2
}
