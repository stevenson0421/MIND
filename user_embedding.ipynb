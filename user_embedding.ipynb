{
 "cells": [
  {
   "cell_type": "code",
   "execution_count": 1,
   "metadata": {},
   "outputs": [],
   "source": [
    "from sklearn.metrics import accuracy_score, f1_score, roc_auc_score\n",
    "\n",
    "import numpy as np\n",
    "import pandas as pd\n",
    "\n",
    "import torch\n",
    "from torch.nn import Module, Linear, ReLU, Softmax, CrossEntropyLoss\n",
    "from torch.utils.data import Dataset, DataLoader\n",
    "from torch.utils.tensorboard import SummaryWriter\n",
    "\n",
    "import time\n",
    "import os\n",
    "from tqdm import trange"
   ]
  },
  {
   "cell_type": "code",
   "execution_count": 2,
   "metadata": {},
   "outputs": [],
   "source": [
    "class CustomDataset(Dataset):\n",
    "    def __init__(self, x, y):\n",
    "        super().__init__()\n",
    "\n",
    "        self.x = x\n",
    "        self.y = y\n",
    "\n",
    "    def __len__(self):\n",
    "        return len(self.x)\n",
    "    \n",
    "    def __getitem__(self, index):\n",
    "        return self.x[index], self.y[index]"
   ]
  },
  {
   "cell_type": "code",
   "execution_count": 3,
   "metadata": {},
   "outputs": [],
   "source": [
    "class UserEmbeddingNetwork(Module):\n",
    "    def __init__(self, input_dimension, hidden_dimension, latent_dimension, output_dimension):\n",
    "        super().__init__()\n",
    "\n",
    "        def init_parameters(layer, scale=1):\n",
    "            torch.nn.init.xavier_normal_(layer.weight, gain=scale)\n",
    "            torch.nn.init.zeros_(layer.bias)\n",
    "\n",
    "        self.fc1 = Linear(in_features=input_dimension, out_features=hidden_dimension)\n",
    "        init_parameters(self.fc1)\n",
    "        self.fc2 = Linear(in_features=hidden_dimension, out_features=hidden_dimension)\n",
    "        init_parameters(self.fc2)\n",
    "        self.fc3 = Linear(in_features=hidden_dimension, out_features=latent_dimension)\n",
    "        init_parameters(self.fc3)\n",
    "        self.fc4 = Linear(in_features=latent_dimension, out_features=output_dimension)\n",
    "        init_parameters(self.fc4)\n",
    "\n",
    "        self.relu = ReLU()\n",
    "        self.softmax = Softmax(dim=-1)\n",
    "\n",
    "    def forward(self, input_vector):\n",
    "        latent = self.relu(self.fc1(input_vector))\n",
    "        latent = self.relu(self.fc2(latent))\n",
    "        latent = self.softmax(self.fc3(latent))\n",
    "        output = self.softmax(self.fc4(latent))\n",
    "\n",
    "        return latent, output"
   ]
  },
  {
   "cell_type": "code",
   "execution_count": 4,
   "metadata": {},
   "outputs": [],
   "source": [
    "seed=24\n",
    "torch.manual_seed(seed)\n",
    "torch.cuda.manual_seed(seed)\n",
    "np.random.seed(seed)\n",
    "torch.backends.cudnn.deterministic=True"
   ]
  },
  {
   "cell_type": "code",
   "execution_count": 5,
   "metadata": {},
   "outputs": [
    {
     "name": "stdout",
     "output_type": "stream",
     "text": [
      "data loaded\n"
     ]
    }
   ],
   "source": [
    "# load news data\n",
    "column_names = ['News_id', 'Category', 'Subcategory', 'Title', 'Abstract', 'URL', 'Title_Entities', 'Abstract_Entities']\n",
    "news = pd.read_csv('./data/train_news.tsv', sep='\\t', names=column_names)\n",
    "news2 = pd.read_csv('./data/test_news.tsv', sep='\\t', names=column_names)\n",
    "news = pd.concat([news, news2], ignore_index=True)\n",
    "column_names = ['Impression_id', 'User', 'Time', 'Clicked_News', 'Impressions']\n",
    "behaviors = pd.read_csv('./data/train_behaviors.tsv', sep='\\t', names=column_names)\n",
    "behaviors2 = pd.read_csv('./data/test_behaviors.tsv', sep='\\t', names=column_names)\n",
    "behaviors = pd.concat([behaviors, behaviors2], ignore_index=True)\n",
    "\n",
    "del news2, behaviors2\n",
    "\n",
    "print('data loaded')"
   ]
  },
  {
   "cell_type": "code",
   "execution_count": 8,
   "metadata": {},
   "outputs": [],
   "source": [
    "number_of_epoch = 80\n",
    "learning_rate = 0.001\n",
    "batch_size = 128\n",
    "embedding_dimension = 256\n",
    "hidden_dimension = 256\n",
    "latent_dimension = 256\n",
    "device = torch.device('cuda' if torch.cuda.is_available() else 'cpu')"
   ]
  },
  {
   "cell_type": "code",
   "execution_count": 9,
   "metadata": {},
   "outputs": [
    {
     "name": "stdout",
     "output_type": "stream",
     "text": [
      "user mapped with news vector (input)\n"
     ]
    }
   ],
   "source": [
    "news_id2index_map = {id: index for index, id in enumerate(news['News_id'].unique())}\n",
    "\n",
    "news_embedding = np.load('./data/news_embedding/news_embedding_vector.npy')\n",
    "\n",
    "train_x = np.empty((behaviors.shape[0], embedding_dimension), dtype=np.float32)\n",
    "pointer = 0\n",
    "for i in behaviors['Clicked_News']:\n",
    "    vec_list = []\n",
    "    for j in i.split():\n",
    "        index = news_id2index_map[j]\n",
    "        vec_list.append(news_embedding[index])\n",
    "\n",
    "    train_x[pointer] = np.mean(vec_list, axis=0)\n",
    "    pointer += 1\n",
    "\n",
    "train_x_tensor = torch.FloatTensor(train_x)\n",
    "\n",
    "print('user mapped with news vector (input)')"
   ]
  },
  {
   "cell_type": "code",
   "execution_count": 10,
   "metadata": {},
   "outputs": [
    {
     "name": "stderr",
     "output_type": "stream",
     "text": [
      "100%|██████████| 331629/331629 [00:13<00:00, 24591.40it/s]\n"
     ]
    }
   ],
   "source": [
    "one_hot_category = pd.get_dummies(news['Category']).astype(float)\n",
    "columns = news['Category'].value_counts().index\n",
    "one_hot_category = one_hot_category[columns].values\n",
    "one_hot_category_map = {news['News_id'][i]:one_hot_category[i] for i in range(len(news))}\n",
    "\n",
    "num_of_class = one_hot_category.shape[1]\n",
    "\n",
    "num_of_rows = behaviors.shape[0]\n",
    "\n",
    "# User history sum\n",
    "train_y = np.empty((num_of_rows, num_of_class))\n",
    "click_news = behaviors['Clicked_News'].values\n",
    "for i in trange(num_of_rows):\n",
    "    for click in click_news[i].split():\n",
    "        train_y[i] += one_hot_category_map[click]\n",
    "    t = np.argmax(train_y[i])\n",
    "    train_y[i] = np.zeros(num_of_class)\n",
    "    train_y[i][t] = 1"
   ]
  },
  {
   "cell_type": "code",
   "execution_count": 12,
   "metadata": {},
   "outputs": [
    {
     "data": {
      "text/plain": [
       "14"
      ]
     },
     "execution_count": 12,
     "metadata": {},
     "output_type": "execute_result"
    }
   ],
   "source": [
    "len(np.unique(train_y, axis=0))"
   ]
  },
  {
   "cell_type": "code",
   "execution_count": 14,
   "metadata": {},
   "outputs": [
    {
     "data": {
      "text/plain": [
       "(array([14, 15, 16, 17], dtype=int64),)"
      ]
     },
     "execution_count": 14,
     "metadata": {},
     "output_type": "execute_result"
    }
   ],
   "source": [
    "np.where(~train_y.any(axis=0))"
   ]
  },
  {
   "cell_type": "code",
   "execution_count": 15,
   "metadata": {},
   "outputs": [
    {
     "data": {
      "text/plain": [
       "14"
      ]
     },
     "execution_count": 15,
     "metadata": {},
     "output_type": "execute_result"
    }
   ],
   "source": [
    "train_y2 = np.delete(train_y, np.where(~train_y.any(axis=0)), axis=1)\n",
    "len(np.unique(train_y2, axis=0))"
   ]
  },
  {
   "cell_type": "code",
   "execution_count": 16,
   "metadata": {},
   "outputs": [
    {
     "data": {
      "text/plain": [
       "(331629, 14)"
      ]
     },
     "execution_count": 16,
     "metadata": {},
     "output_type": "execute_result"
    }
   ],
   "source": [
    "train_y2.shape"
   ]
  },
  {
   "cell_type": "code",
   "execution_count": 17,
   "metadata": {},
   "outputs": [
    {
     "name": "stdout",
     "output_type": "stream",
     "text": [
      "user id (target) encoded\n"
     ]
    }
   ],
   "source": [
    "train_y_tensor = torch.FloatTensor(train_y2)\n",
    "\n",
    "output_dimension = train_y2.shape[1]\n",
    "\n",
    "print('user id (target) encoded')"
   ]
  },
  {
   "cell_type": "code",
   "execution_count": 18,
   "metadata": {},
   "outputs": [],
   "source": [
    "user_dataset = CustomDataset(train_x_tensor, train_y_tensor)\n",
    "\n",
    "train_loader = DataLoader(user_dataset, batch_size=batch_size, shuffle=True)\n",
    "\n",
    "del news, behaviors"
   ]
  },
  {
   "cell_type": "code",
   "execution_count": 20,
   "metadata": {},
   "outputs": [
    {
     "name": "stderr",
     "output_type": "stream",
     "text": [
      " 20%|██        | 16/80 [02:05<08:30,  7.98s/it]"
     ]
    }
   ],
   "source": [
    "if not os.path.exists('./runs/'):\n",
    "    os.makedirs('./runs/')\n",
    "\n",
    "if not os.path.exists('./model/'):\n",
    "    os.makedirs('./model/')\n",
    "\n",
    "writer = SummaryWriter(log_dir=f'./runs/user_embedding_{time.strftime(\"%Y%m%d-%H%M%S\")}')\n",
    "\n",
    "network = UserEmbeddingNetwork(input_dimension=embedding_dimension,\n",
    "                               hidden_dimension=hidden_dimension,\n",
    "                               latent_dimension=latent_dimension,\n",
    "                               output_dimension=output_dimension).to(device)\n",
    "\n",
    "optimizer = torch.optim.Adam(network.parameters(), lr=learning_rate)\n",
    "criterion = CrossEntropyLoss()\n",
    "\n",
    "start_time = time.time()\n",
    "for epoch in trange(number_of_epoch):\n",
    "    network.to(device)\n",
    "    predicts = np.empty((len(train_x),output_dimension))\n",
    "    labels = np.empty((len(train_x), output_dimension))\n",
    "    pointer = 0\n",
    "    for i, (x, y) in enumerate(train_loader):\n",
    "        x = x.to(device)\n",
    "        y = y.to(device)\n",
    "        latent, predict = network.forward(x)\n",
    "        loss = criterion(predict, y)\n",
    "\n",
    "        optimizer.zero_grad()\n",
    "        loss.backward()\n",
    "        optimizer.step()\n",
    "\n",
    "        with torch.no_grad():\n",
    "            predict = predict.cpu().numpy()\n",
    "            y = y.cpu().numpy()\n",
    "            mb_size = len(predict)\n",
    "            predicts[pointer:pointer+mb_size] = predict\n",
    "            labels[pointer:pointer+mb_size] = y\n",
    "            pointer += mb_size\n",
    "\n",
    "        del x, y, predict\n",
    "\n",
    "    writer.add_scalar('Loss', loss, epoch)\n",
    "\n",
    "    auc = roc_auc_score(labels, predicts, multi_class='ovr')\n",
    "\n",
    "    writer.add_scalar('AUC', auc, epoch)\n",
    "\n",
    "print(f'news embedding train time: {time.time() - start_time} seconds')\n",
    "writer.close()"
   ]
  },
  {
   "cell_type": "code",
   "execution_count": null,
   "metadata": {},
   "outputs": [],
   "source": [
    "with torch.no_grad():\n",
    "    network.to(device)\n",
    "    predicts = np.empty((len(train_x),output_dimension))\n",
    "    latents = np.empty((len(train_x), latent_dimension))\n",
    "    pointer = 0\n",
    "    for i, (x, y) in enumerate(train_loader):\n",
    "        x = x.to(device)\n",
    "        y = y.to(device)\n",
    "        latent, predict = network.forward(x)\n",
    "        loss = criterion(predict, y)\n",
    "\n",
    "        optimizer.zero_grad()\n",
    "        loss.backward()\n",
    "        optimizer.step()\n",
    "\n",
    "        predict = predict.cpu().numpy()\n",
    "        latent = latent.cpu().numpy()\n",
    "        mb_size = len(predict)\n",
    "        predicts[pointer:pointer+mb_size] = predict\n",
    "        latents[pointer:pointer+mb_size] = latent\n",
    "        pointer += mb_size\n",
    "\n",
    "        del x, y, predict, latent\n",
    "\n",
    "predicts = np.argmax(predicts, axis=1)\n",
    "print(np.unique(predicts))"
   ]
  },
  {
   "cell_type": "code",
   "execution_count": null,
   "metadata": {},
   "outputs": [],
   "source": [
    "if not os.path.exists('./model/'):\n",
    "    os.makedirs('./model/')\n",
    "torch.save(network.state_dict(), \n",
    "           f'./model/user_embedding_{time.strftime(\"%Y%m%d-%H%M%S\")}_{auc:.2f}.pth')"
   ]
  },
  {
   "cell_type": "code",
   "execution_count": null,
   "metadata": {},
   "outputs": [],
   "source": [
    "if not os.path.exists('./data/user_embedding/'):\n",
    "    os.makedirs('./data/user_embedding/')\n",
    "np.save('./data/user_embedding/user_vector.npy', train_x)\n",
    "np.save('./data/user_embedding/user_embedding_vector.npy', latents)"
   ]
  }
 ],
 "metadata": {
  "kernelspec": {
   "display_name": "ml",
   "language": "python",
   "name": "python3"
  },
  "language_info": {
   "codemirror_mode": {
    "name": "ipython",
    "version": 3
   },
   "file_extension": ".py",
   "mimetype": "text/x-python",
   "name": "python",
   "nbconvert_exporter": "python",
   "pygments_lexer": "ipython3",
   "version": "3.10.11"
  },
  "orig_nbformat": 4
 },
 "nbformat": 4,
 "nbformat_minor": 2
}
